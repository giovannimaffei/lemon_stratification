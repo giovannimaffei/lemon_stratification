{
 "cells": [
  {
   "cell_type": "code",
   "execution_count": 20,
   "metadata": {},
   "outputs": [],
   "source": [
    "from os import listdir\n",
    "\n",
    "import matplotlib.pyplot as plt\n",
    "import numpy as np\n",
    "import pandas as pd\n",
    "import statsmodels.api as sm\n",
    "import statsmodels.formula.api as smf\n",
    "from scipy.stats import zscore, pearsonr\n",
    "from sklearn.decomposition import PCA"
   ]
  },
  {
   "cell_type": "code",
   "execution_count": 21,
   "metadata": {},
   "outputs": [],
   "source": [
    "pd.options.mode.chained_assignment = None"
   ]
  },
  {
   "cell_type": "markdown",
   "metadata": {},
   "source": [
    "# Hypothesis testing and mediation analyisis"
   ]
  },
  {
   "cell_type": "markdown",
   "metadata": {},
   "source": [
    "## Loading preprocessed data tables"
   ]
  },
  {
   "cell_type": "markdown",
   "metadata": {},
   "source": [
    "### self reports scales"
   ]
  },
  {
   "cell_type": "code",
   "execution_count": 22,
   "metadata": {},
   "outputs": [],
   "source": [
    "emotion_scales_path = '/Users/giovanni/Documents/Datasets/LEMON/Behavioural_Data_MPILMBB_LEMON/Emotion_and_Personality_Test_Battery_LEMON/'\n",
    "scale_names = [s.split('.')[0] for s in listdir(emotion_scales_path) if s.split('.')[1] == 'csv']\n",
    "emotion_scales = {}\n",
    "\n",
    "for sn in scale_names:\n",
    "    scale_path = emotion_scales_path+sn+'.csv'\n",
    "    s = pd.read_csv(scale_path)\n",
    "    emotion_scales[sn]=s\n"
   ]
  },
  {
   "cell_type": "code",
   "execution_count": 23,
   "metadata": {},
   "outputs": [],
   "source": [
    "scale = emotion_scales['TICS']\n",
    "scale = scale.rename(columns={'Unnamed: 0':'sbj_id'})\n",
    "\n",
    "scale_df = scale\n",
    "\n",
    "\n",
    "scale = emotion_scales['PSQ']\n",
    "scale = scale.replace(' ', np.nan)\n",
    "scale = scale.dropna()\n",
    "scale = scale.rename(columns={'Unnamed: 0':'sbj_id'})\n",
    "scale = scale.astype({'PSQ_Worries': 'float', 'PSQ_Tension': 'float', 'PSQ_Joy': 'float', 'PSQ_Demands': 'float', 'PSQ_OverallScore': 'float'})\n",
    "\n",
    "scale_df = scale_df.merge(scale, on='sbj_id', how='left')\n",
    "\n",
    "\n",
    "scale = emotion_scales['STAI_G_X2']\n",
    "scale = scale.rename(columns={'Unnamed: 0':'sbj_id'})\n",
    "\n",
    "scale_df = scale_df.merge(scale, on='sbj_id', how='left').dropna()\n",
    "\n",
    "\n",
    "z_question = zscore(scale_df[scale_df.columns[1:]].values, axis=0)\n",
    "pca = PCA(n_components=3)\n",
    "pca_question = pca.fit_transform(z_question)\n",
    "\n",
    "scale_df['q_pca_1'] = pca_question[:,0]\n",
    "scale_df['q_pca_2'] = pca_question[:,1]\n",
    "scale_df['q_pca_3'] = pca_question[:,2]\n",
    "\n",
    "scale_cols = scale_df.columns[1:]"
   ]
  },
  {
   "cell_type": "markdown",
   "metadata": {},
   "source": [
    "### subject demographics and metadata"
   ]
  },
  {
   "cell_type": "code",
   "execution_count": 24,
   "metadata": {},
   "outputs": [],
   "source": [
    "subject_meta_path = '/Users/giovanni/Documents/Datasets/LEMON/Behavioural_Data_MPILMBB_LEMON/META_File_IDs_Age_Gender_Education_Drug_Smoke_SKID_LEMON.csv'\n",
    "subject_meta_df = pd.read_csv(subject_meta_path)\n",
    "subject_meta_df = subject_meta_df.rename(columns={'Unnamed: 0':'sbj_id'})\n",
    "subject_meta_df = subject_meta_df.rename(columns={'Gender_ 1=female_2=male':'gender'})\n",
    "subject_meta_df['gender'] = subject_meta_df['gender'] -1 \n",
    "subject_meta_df['Standard_Alcoholunits_Last_28days'] = subject_meta_df['Standard_Alcoholunits_Last_28days'].fillna('-1').apply(lambda x: x.replace(',','.')).astype(float)\n",
    "\n",
    "for colname in subject_meta_df.columns:\n",
    "    if (subject_meta_df.dtypes == 'object')[colname] == False:\n",
    "        continue\n",
    "    col = subject_meta_df[colname]\n",
    "    code_dict = {k:v for v,k in enumerate(col.unique())}\n",
    "    code_col = pd.DataFrame({colname+'_coded':[code_dict[c] for c in col]})\n",
    "    subject_meta_df = subject_meta_df.join(code_col)\n",
    "\n",
    "subject_meta_df['Age_num'] = subject_meta_df['Age'].apply(lambda x: np.mean(list(map(int, x.split('-')))))\n",
    "subject_meta_df['Smoking_coded_bin'] = (subject_meta_df['Smoking_num_(Non-smoker=1, Occasional Smoker=2, Smoker=3)'] > 1).astype(int)"
   ]
  },
  {
   "cell_type": "markdown",
   "metadata": {},
   "source": [
    "### heart features extracted from PPG"
   ]
  },
  {
   "cell_type": "code",
   "execution_count": 25,
   "metadata": {},
   "outputs": [],
   "source": [
    "processed_data_path = '/Users/giovanni/Documents/Datasets/LEMON/processed/'\n",
    "hrv_df = pd.read_json(processed_data_path+'LEMON_ppg_features.json')\n",
    "hrv_df = hrv_df.rename(columns={'sd1/sd2':'sd1_sd2'})\n",
    "hrv_df = hrv_df.groupby('sbj_id').mean().reset_index()"
   ]
  },
  {
   "cell_type": "markdown",
   "metadata": {},
   "source": [
    "### brain activation and connectivty features (DMN)"
   ]
  },
  {
   "cell_type": "code",
   "execution_count": 26,
   "metadata": {},
   "outputs": [],
   "source": [
    "fmri_df = pd.read_json(processed_data_path+'LEMON_fmri_rs_features_DMN_complete.json')[:]\n",
    "fmri_df['DMN_amp_mean_PPC_LTJ'] = fmri_df[['DMN_amp_mean_PCC', 'DMN_amp_mean_LTJ']].mean(1)"
   ]
  },
  {
   "cell_type": "markdown",
   "metadata": {},
   "source": [
    "### merging all tables in a single dataframe"
   ]
  },
  {
   "cell_type": "code",
   "execution_count": 27,
   "metadata": {},
   "outputs": [
    {
     "name": "stdout",
     "output_type": "stream",
     "text": [
      "10    sub-032484\n",
      "59    sub-032360\n",
      "Name: sbj_id, dtype: object\n"
     ]
    },
    {
     "data": {
      "text/plain": [
       "104"
      ]
     },
     "execution_count": 27,
     "metadata": {},
     "output_type": "execute_result"
    }
   ],
   "source": [
    "hp_test_df = fmri_df.merge(hrv_df, on='sbj_id', how='left').dropna()\n",
    "\n",
    "hp_test_df = hp_test_df.merge(subject_meta_df[['sbj_id',\n",
    "                                               'gender', \n",
    "                                               'Age_num',\n",
    "                                               'Smoking_coded_bin']], on='sbj_id', how='left').dropna()\n",
    "\n",
    "hp_test_df = hp_test_df.merge(scale_df, on='sbj_id', how='left').dropna()\n",
    "# selection_mask = (hp_test_df['sd1_sd2'] < .4) & (hp_test_df['STAI_Trait_Anxiety'] < 30)\n",
    "selection_mask = (hp_test_df['sd1_sd2'] < .4) & (hp_test_df['STAI_Trait_Anxiety'] < 25)\n",
    "print(hp_test_df[selection_mask==True].sbj_id)\n",
    "hp_test_df = hp_test_df[selection_mask==False]\n",
    "\n",
    "len(hp_test_df)\n"
   ]
  },
  {
   "cell_type": "markdown",
   "metadata": {},
   "source": [
    "## Hypothesis testing: individual associations"
   ]
  },
  {
   "cell_type": "markdown",
   "metadata": {},
   "source": [
    "### STAI scores - HRV controlling for age, gender and smoking habits"
   ]
  },
  {
   "cell_type": "code",
   "execution_count": 36,
   "metadata": {},
   "outputs": [
    {
     "name": "stdout",
     "output_type": "stream",
     "text": [
      "                            OLS Regression Results                            \n",
      "==============================================================================\n",
      "Dep. Variable:     STAI_Trait_Anxiety   R-squared:                       0.088\n",
      "Model:                            OLS   Adj. R-squared:                  0.051\n",
      "Method:                 Least Squares   F-statistic:                     2.374\n",
      "Date:                Wed, 27 Apr 2022   Prob (F-statistic):             0.0573\n",
      "Time:                        18:24:55   Log-Likelihood:                -142.81\n",
      "No. Observations:                 104   AIC:                             295.6\n",
      "Df Residuals:                      99   BIC:                             308.8\n",
      "Df Model:                           4                                         \n",
      "Covariance Type:            nonrobust                                         \n",
      "=====================================================================================\n",
      "                        coef    std err          t      P>|t|      [0.025      0.975]\n",
      "-------------------------------------------------------------------------------------\n",
      "Intercept          2.706e-16      0.096   2.82e-15      1.000      -0.190       0.190\n",
      "sd1_sd2              -0.2214      0.102     -2.168      0.033      -0.424      -0.019\n",
      "Age_num              -0.1057      0.101     -1.052      0.295      -0.305       0.094\n",
      "gender                0.0866      0.102      0.849      0.398      -0.116       0.289\n",
      "Smoking_coded_bin     0.0710      0.102      0.696      0.488      -0.131       0.273\n",
      "==============================================================================\n",
      "Omnibus:                        3.528   Durbin-Watson:                   2.082\n",
      "Prob(Omnibus):                  0.171   Jarque-Bera (JB):                2.714\n",
      "Skew:                           0.259   Prob(JB):                        0.257\n",
      "Kurtosis:                       2.402   Cond. No.                         1.51\n",
      "==============================================================================\n",
      "\n",
      "Notes:\n",
      "[1] Standard Errors assume that the covariance matrix of the errors is correctly specified.\n",
      "(1.1525069093520912e-16, 0.9999999999999922)\n"
     ]
    }
   ],
   "source": [
    "col_selection = ['STAI_Trait_Anxiety', 'sd1_sd2', 'Age_num', 'gender', 'Smoking_coded_bin']\n",
    "\n",
    "exp_df = hp_test_df[col_selection]\n",
    "\n",
    "exp_df['sd1_sd2'] = np.log(exp_df['sd1_sd2'].values)\n",
    "exp_df = exp_df.apply(zscore, axis=0)\n",
    "predictors = exp_df.columns[1:].astype(str)\n",
    "predicted = exp_df.columns[0]\n",
    "\n",
    "model_formula = predicted+' ~ '+' + '.join(predictors) #+ '+ bpm:sd1_sd2'\n",
    "results = smf.ols(model_formula, data=exp_df).fit()\n",
    "print(results.summary())\n",
    "print(pearsonr(exp_df['sd1_sd2'], results.resid))\n"
   ]
  },
  {
   "cell_type": "code",
   "execution_count": 477,
   "metadata": {},
   "outputs": [],
   "source": [
    "# stargazer = Stargazer([results])\n",
    "# stargazer.covariate_order(['Intercept', 'sd1_sd2', 'Age_num', 'gender', 'Smoking_coded_bin'])\n",
    "# stargazer.rename_covariates({\n",
    "#     # 'DMN_amp_mean_PPC_LTJ': 'D (DMN activation)',\n",
    "#     'sd1_sd2': 'H (Heart rate variability)',\n",
    "#     'Age_num': 'C (Age)',\n",
    "#     'gender': 'C (Gender)',\n",
    "#     'Smoking_coded_bin': 'C (Smoker)'\n",
    "#     })\n",
    "# stargazer.show_degrees_of_freedom(False)\n",
    "# print(stargazer.render_latex())"
   ]
  },
  {
   "cell_type": "code",
   "execution_count": 479,
   "metadata": {},
   "outputs": [
    {
     "data": {
      "image/png": "[encoded data removed]",
      "text/plain": [
       "<Figure size 360x360 with 1 Axes>"
      ]
     },
     "metadata": {
      "needs_background": "light"
     },
     "output_type": "display_data"
    }
   ],
   "source": [
    "plt.figure(figsize=(5,5))\n",
    "plt.plot(np.linspace(-3,4,10), results.params['Intercept'] + np.linspace(-2,5,10)* results.params['sd1_sd2'], 'g')\n",
    "plt.plot(exp_df['sd1_sd2'], exp_df['STAI_Trait_Anxiety'], 'ko', alpha=.5)\n",
    "plt.xlabel('Heart rate var. (zscore)', fontsize=15)\n",
    "plt.ylabel('STAI trait anxiety (zscore)', fontsize=15)\n",
    "plt.gca().spines['right'].set_visible(False)\n",
    "plt.gca().spines['top'].set_visible(False)\n"
   ]
  },
  {
   "cell_type": "markdown",
   "metadata": {},
   "source": [
    "### HRV - DMN activation controlling for age, gender and smoking habits"
   ]
  },
  {
   "cell_type": "code",
   "execution_count": 47,
   "metadata": {},
   "outputs": [
    {
     "name": "stdout",
     "output_type": "stream",
     "text": [
      "                            OLS Regression Results                            \n",
      "==============================================================================\n",
      "Dep. Variable:                sd1_sd2   R-squared:                       0.155\n",
      "Model:                            OLS   Adj. R-squared:                  0.121\n",
      "Method:                 Least Squares   F-statistic:                     4.530\n",
      "Date:                Wed, 27 Apr 2022   Prob (F-statistic):            0.00211\n",
      "Time:                        18:29:57   Log-Likelihood:                -138.83\n",
      "No. Observations:                 104   AIC:                             287.7\n",
      "Df Residuals:                      99   BIC:                             300.9\n",
      "Df Model:                           4                                         \n",
      "Covariance Type:            nonrobust                                         \n",
      "========================================================================================\n",
      "                           coef    std err          t      P>|t|      [0.025      0.975]\n",
      "----------------------------------------------------------------------------------------\n",
      "Intercept             -2.29e-16      0.092  -2.48e-15      1.000      -0.183       0.183\n",
      "DMN_amp_mean_PPC_LTJ    -0.2252      0.106     -2.124      0.036      -0.436      -0.015\n",
      "Age_num                  0.1433      0.106      1.350      0.180      -0.067       0.354\n",
      "gender                  -0.2048      0.099     -2.075      0.041      -0.401      -0.009\n",
      "Smoking_coded_bin        0.0864      0.099      0.869      0.387      -0.111       0.284\n",
      "==============================================================================\n",
      "Omnibus:                        0.798   Durbin-Watson:                   2.172\n",
      "Prob(Omnibus):                  0.671   Jarque-Bera (JB):                0.837\n",
      "Skew:                          -0.039   Prob(JB):                        0.658\n",
      "Kurtosis:                       2.568   Cond. No.                         1.81\n",
      "==============================================================================\n",
      "\n",
      "Notes:\n",
      "[1] Standard Errors assume that the covariance matrix of the errors is correctly specified.\n",
      "(1.6606927963867812e-17, 0.9999999999999992)\n"
     ]
    }
   ],
   "source": [
    "col_selection = ['sd1_sd2', 'DMN_amp_mean_PPC_LTJ', 'Age_num', 'gender', 'Smoking_coded_bin']\n",
    "\n",
    "exp_df = hp_test_df[col_selection]\n",
    "exp_df['sd1_sd2'] = np.log(exp_df['sd1_sd2'].values)\n",
    "exp_df['DMN_amp_mean_PPC_LTJ'] = np.log(exp_df['DMN_amp_mean_PPC_LTJ'].values)\n",
    "exp_df = exp_df.apply(zscore, axis=0)\n",
    "predictors = exp_df.columns[1:].astype(str)\n",
    "predicted = exp_df.columns[0]\n",
    "\n",
    "model_formula = predicted+' ~ '+' + '.join(predictors) #+ '+ bpm:sd1_sd2'\n",
    "results = smf.ols(model_formula, data=exp_df).fit()\n",
    "print(results.summary())\n",
    "print(pearsonr(exp_df['DMN_amp_mean_PPC_LTJ'], results.resid))"
   ]
  },
  {
   "cell_type": "code",
   "execution_count": 48,
   "metadata": {},
   "outputs": [
    {
     "data": {
      "image/png": "[encoded data removed]",
      "text/plain": [
       "<Figure size 360x360 with 1 Axes>"
      ]
     },
     "metadata": {
      "needs_background": "light"
     },
     "output_type": "display_data"
    }
   ],
   "source": [
    "plt.figure(figsize=(5,5))\n",
    "plt.plot(np.linspace(-3,3,10), results.params['Intercept'] + np.linspace(-2,5,10)* results.params['DMN_amp_mean_PPC_LTJ'], 'g')\n",
    "plt.plot(exp_df['DMN_amp_mean_PPC_LTJ'], exp_df['sd1_sd2'], 'ko', alpha=.5)\n",
    "\n",
    "plt.xlabel('DMN activation (zscore)', fontsize=15)\n",
    "plt.ylabel('Heart rate var. (zscore)', fontsize=15)\n",
    "plt.gca().spines['right'].set_visible(False)\n",
    "plt.gca().spines['top'].set_visible(False)"
   ]
  },
  {
   "cell_type": "code",
   "execution_count": 49,
   "metadata": {},
   "outputs": [],
   "source": [
    "# stargazer = Stargazer([results])\n",
    "# stargazer.covariate_order(['Intercept', 'DMN_amp_mean_PPC_LTJ', 'Age_num', 'gender', 'Smoking_coded_bin'])\n",
    "# stargazer.rename_covariates({\n",
    "#     'DMN_amp_mean_PPC_LTJ': 'D (DMN activation)',\n",
    "#     # 'sd1_sd2': 'H (Heart rate variability)',\n",
    "#     'Age_num': 'C (Age)',\n",
    "#     'gender': 'C (Gender)',\n",
    "#     'Smoking_coded_bin': 'C (Smoker)'\n",
    "#     })\n",
    "# stargazer.show_degrees_of_freedom(False)\n",
    "# print(stargazer.render_latex())"
   ]
  },
  {
   "cell_type": "markdown",
   "metadata": {},
   "source": [
    "### STAI score - DMN activation controlling for age, gender and smoking habits"
   ]
  },
  {
   "cell_type": "code",
   "execution_count": 51,
   "metadata": {},
   "outputs": [
    {
     "name": "stdout",
     "output_type": "stream",
     "text": [
      "                            OLS Regression Results                            \n",
      "==============================================================================\n",
      "Dep. Variable:     STAI_Trait_Anxiety   R-squared:                       0.110\n",
      "Model:                            OLS   Adj. R-squared:                  0.074\n",
      "Method:                 Least Squares   F-statistic:                     3.054\n",
      "Date:                Wed, 27 Apr 2022   Prob (F-statistic):             0.0203\n",
      "Time:                        18:31:11   Log-Likelihood:                -141.52\n",
      "No. Observations:                 104   AIC:                             293.0\n",
      "Df Residuals:                      99   BIC:                             306.3\n",
      "Df Model:                           4                                         \n",
      "Covariance Type:            nonrobust                                         \n",
      "========================================================================================\n",
      "                           coef    std err          t      P>|t|      [0.025      0.975]\n",
      "----------------------------------------------------------------------------------------\n",
      "Intercept             2.706e-16      0.095   2.85e-15      1.000      -0.188       0.188\n",
      "DMN_amp_mean_PPC_LTJ     0.2941      0.109      2.702      0.008       0.078       0.510\n",
      "Age_num                 -0.0220      0.109     -0.202      0.841      -0.238       0.194\n",
      "gender                   0.1759      0.101      1.737      0.086      -0.025       0.377\n",
      "Smoking_coded_bin        0.0990      0.102      0.971      0.334      -0.103       0.301\n",
      "==============================================================================\n",
      "Omnibus:                        6.020   Durbin-Watson:                   2.139\n",
      "Prob(Omnibus):                  0.049   Jarque-Bera (JB):                4.707\n",
      "Skew:                           0.407   Prob(JB):                       0.0951\n",
      "Kurtosis:                       2.350   Cond. No.                         1.81\n",
      "==============================================================================\n",
      "\n",
      "Notes:\n",
      "[1] Standard Errors assume that the covariance matrix of the errors is correctly specified.\n"
     ]
    }
   ],
   "source": [
    "col_selection = ['STAI_Trait_Anxiety', 'DMN_amp_mean_PPC_LTJ', 'Age_num', 'gender', 'Smoking_coded_bin']\n",
    "\n",
    "exp_df = hp_test_df[col_selection]\n",
    "exp_df['DMN_amp_mean_PPC_LTJ'] = np.log(exp_df['DMN_amp_mean_PPC_LTJ'].values)\n",
    "exp_df = exp_df.apply(zscore, axis=0)\n",
    "predictors = exp_df.columns[1:].astype(str)\n",
    "predicted = exp_df.columns[0]\n",
    "\n",
    "model_formula = predicted+' ~ '+' + '.join(predictors) #+ '+ bpm:sd1_sd2'\n",
    "results = smf.ols(model_formula, data=exp_df).fit()\n",
    "print(results.summary())"
   ]
  },
  {
   "cell_type": "code",
   "execution_count": 447,
   "metadata": {},
   "outputs": [],
   "source": [
    "# stargazer = Stargazer([results])\n",
    "# stargazer.covariate_order(['Intercept', 'DMN_amp_mean_PPC_LTJ', 'Age_num', 'gender', 'Smoking_coded_bin'])\n",
    "# stargazer.rename_covariates({\n",
    "#     'DMN_amp_mean_PPC_LTJ': 'D (DMN activation)',\n",
    "#     # 'sd1_sd2': 'H (Heart rate variability)',\n",
    "#     'Age_num': 'C (Age)',\n",
    "#     'gender': 'C (Gender)',\n",
    "#     'Smoking_coded_bin': 'C (Smoker)'\n",
    "#     })\n",
    "# stargazer.show_degrees_of_freedom(False)\n",
    "# print(stargazer.render_latex())"
   ]
  },
  {
   "cell_type": "code",
   "execution_count": 52,
   "metadata": {},
   "outputs": [
    {
     "data": {
      "image/png": "[encoded data removed]",
      "text/plain": [
       "<Figure size 360x360 with 1 Axes>"
      ]
     },
     "metadata": {
      "needs_background": "light"
     },
     "output_type": "display_data"
    }
   ],
   "source": [
    "plt.figure(figsize=(5,5))\n",
    "plt.plot(np.linspace(-3,3,10), results.params['Intercept'] + np.linspace(-2,5,10)* results.params['DMN_amp_mean_PPC_LTJ'], 'g')\n",
    "plt.plot(exp_df['DMN_amp_mean_PPC_LTJ'], exp_df['STAI_Trait_Anxiety'], 'ko', alpha=.5)\n",
    "plt.xlabel('DMN activation (zscore)', fontsize=15)\n",
    "plt.ylabel('STAI trait anxiety (zscore)', fontsize=15)\n",
    "plt.gca().spines['right'].set_visible(False)\n",
    "plt.gca().spines['top'].set_visible(False)"
   ]
  },
  {
   "cell_type": "markdown",
   "metadata": {},
   "source": [
    "## Mediation analysis"
   ]
  },
  {
   "cell_type": "code",
   "execution_count": 57,
   "metadata": {},
   "outputs": [
    {
     "name": "stdout",
     "output_type": "stream",
     "text": [
      "                          Estimate  Lower CI bound  Upper CI bound  P-value\n",
      "ACME (control)            0.033318       -0.020392        0.119275    0.312\n",
      "ACME (treated)            0.033318       -0.020392        0.119275    0.312\n",
      "ADE (control)             0.266922        0.054909        0.492192    0.016\n",
      "ADE (treated)             0.266922        0.054909        0.492192    0.016\n",
      "Total effect              0.300240        0.088263        0.521046    0.010\n",
      "Prop. mediated (control)  0.089568       -0.105997        0.481856    0.314\n",
      "Prop. mediated (treated)  0.089568       -0.105997        0.481856    0.314\n",
      "ACME (average)            0.033318       -0.020392        0.119275    0.312\n",
      "ADE (average)             0.266922        0.054909        0.492192    0.016\n",
      "Prop. mediated (average)  0.089568       -0.105997        0.481856    0.314\n"
     ]
    }
   ],
   "source": [
    "import statsmodels.api as sm\n",
    "from statsmodels.stats.mediation import Mediation\n",
    "\n",
    "\n",
    "col_selection = ['STAI_Trait_Anxiety', 'sd1_sd2', 'DMN_amp_mean_PPC_LTJ', 'Age_num', 'gender', 'Smoking_coded_bin']\n",
    "exp_df = hp_test_df[col_selection]\n",
    "exp_df = exp_df.apply(zscore, axis=0)\n",
    "\n",
    "\n",
    "outcome_model = sm.OLS.from_formula(\"STAI_Trait_Anxiety ~ DMN_amp_mean_PPC_LTJ + sd1_sd2 + Age_num + gender + Smoking_coded_bin\", exp_df)\n",
    "mediator_model = sm.OLS.from_formula(\"sd1_sd2 ~ DMN_amp_mean_PPC_LTJ + Age_num + gender + Smoking_coded_bin\", exp_df)\n",
    "med = Mediation(outcome_model, mediator_model, \"DMN_amp_mean_PPC_LTJ\", \"sd1_sd2\").fit(n_rep=1000)\n",
    "print(med.summary())"
   ]
  },
  {
   "cell_type": "code",
   "execution_count": null,
   "metadata": {},
   "outputs": [],
   "source": []
  },
  {
   "cell_type": "code",
   "execution_count": null,
   "metadata": {},
   "outputs": [],
   "source": []
  },
  {
   "cell_type": "code",
   "execution_count": 2,
   "metadata": {},
   "outputs": [],
   "source": [
    "from os import listdir"
   ]
  },
  {
   "cell_type": "code",
   "execution_count": 5,
   "metadata": {},
   "outputs": [
    {
     "data": {
      "text/plain": [
       "['sub-032412',\n",
       " 'sub-032396.tar.gz',\n",
       " 'sub-032334.tar',\n",
       " 'sub-032320.tar',\n",
       " 'sub-032446.tar',\n",
       " 'sub-032415',\n",
       " 'sub-032388.tar.gz',\n",
       " 'sub-032423',\n",
       " 'sub-032424',\n",
       " 'sub-032470',\n",
       " 'sub-032484',\n",
       " 'sub-032483',\n",
       " 'sub-032477',\n",
       " 'sub-032441',\n",
       " 'sub-032479',\n",
       " 'sub-032321.tar',\n",
       " 'sub-032446',\n",
       " 'sub-032447.tar',\n",
       " 'sub-032453.tar',\n",
       " 'sub-032492.tar.gz',\n",
       " 'sub-032335.tar',\n",
       " 'sub-032309.tar',\n",
       " 'sub-032445.tar.gz',\n",
       " 'sub-032323.tar',\n",
       " 'sub-032337.tar',\n",
       " 'sub-032425',\n",
       " 'sub-032451.tar',\n",
       " 'sub-032438.tar.gz',\n",
       " 'sub-032422',\n",
       " 'sub-032526.tar.gz',\n",
       " 'sub-032426.tar.gz',\n",
       " 'sub-032377.tar.gz',\n",
       " 'sub-032457.tar.gz',\n",
       " 'sub-032413',\n",
       " 'sub-032434.tar.gz',\n",
       " 'sub-032461.tar.gz',\n",
       " 'sub-032330.tar.gz',\n",
       " 'sub-032478',\n",
       " 'sub-032447',\n",
       " 'sub-032402.tar.gz',\n",
       " 'sub-032502.tar.gz',\n",
       " 'sub-032440',\n",
       " 'sub-032449',\n",
       " 'sub-032473.tar.gz',\n",
       " 'sub-032476',\n",
       " 'sub-032482',\n",
       " 'sub-032336.tar',\n",
       " 'sub-032510.tar.gz',\n",
       " 'sub-032485',\n",
       " 'sub-032444.tar',\n",
       " 'sub-032322.tar',\n",
       " 'sub-032410.tar.gz',\n",
       " 'sub-032478.tar',\n",
       " 'sub-032471',\n",
       " 'sub-032326.tar',\n",
       " 'sub-032503',\n",
       " 'sub-032332.tar',\n",
       " 'sub-032355',\n",
       " 'sub-032367.tar.gz',\n",
       " 'sub-032436.tar.gz',\n",
       " 'sub-032304.tar.gz',\n",
       " 'sub-032504',\n",
       " 'sub-032399',\n",
       " 'sub-032428.tar.gz',\n",
       " 'sub-032390',\n",
       " 'sub-032308.tar.gz',\n",
       " 'sub-032364',\n",
       " 'sub-032524.tar.gz',\n",
       " 'sub-032424.tar.gz',\n",
       " 'sub-032375.tar.gz',\n",
       " 'sub-032363',\n",
       " '.DS_Store',\n",
       " 'sub-032397',\n",
       " 'sub-032337',\n",
       " 'sub-032512.tar.gz',\n",
       " 'sub-032412.tar.gz',\n",
       " 'sub-032330',\n",
       " 'sub-032339',\n",
       " 'sub-032400.tar.gz',\n",
       " 'sub-032306',\n",
       " 'sub-032500.tar.gz',\n",
       " 'sub-032463.tar.gz',\n",
       " 'sub-032469.tar',\n",
       " 'sub-032301',\n",
       " 'sub-032455.tar',\n",
       " 'sub-032333.tar',\n",
       " 'sub-032327.tar',\n",
       " 'sub-032331.tar',\n",
       " 'sub-032396',\n",
       " 'sub-032443.tar',\n",
       " 'sub-032325.tar',\n",
       " 'sub-032362',\n",
       " 'sub-032319.tar',\n",
       " 'sub-032480.tar',\n",
       " 'sub-032365',\n",
       " 'sub-032391',\n",
       " 'sub-032353',\n",
       " 'sub-032505',\n",
       " 'sub-032398',\n",
       " 'sub-032502',\n",
       " 'sub-032354',\n",
       " 'sub-032490.tar.gz',\n",
       " 'sub-032338',\n",
       " 'sub-032307',\n",
       " 'sub-032331',\n",
       " 'sub-032482.tar.gz',\n",
       " 'sub-032309',\n",
       " 'sub-032318.tar',\n",
       " 'sub-032442.tar',\n",
       " 'sub-032324.tar',\n",
       " 'sub-032336',\n",
       " 'sub-032456.tar',\n",
       " 'sub-032355.tar.gz',\n",
       " 'sub-032357.tar',\n",
       " 'sub-032404.tar.gz',\n",
       " 'sub-032431.tar',\n",
       " 'sub-032504.tar.gz',\n",
       " 'sub-032314',\n",
       " 'sub-032343.tar',\n",
       " 'sub-032394.tar',\n",
       " 'sub-032328.tar.gz',\n",
       " 'sub-032479.tar.gz',\n",
       " 'sub-032313',\n",
       " 'sub-032467.tar.gz',\n",
       " 'sub-032325',\n",
       " 'sub-032516.tar.gz',\n",
       " 'sub-032416.tar.gz',\n",
       " 'sub-032508.tar.gz',\n",
       " 'sub-032408.tar.gz',\n",
       " 'sub-032322',\n",
       " 'sub-032475.tar.gz',\n",
       " 'sub-032520.tar.gz',\n",
       " 'sub-032371.tar.gz',\n",
       " 'sub-032420.tar.gz',\n",
       " 'sub-032349',\n",
       " 'sub-032382',\n",
       " 'sub-032520',\n",
       " 'sub-032518',\n",
       " 'sub-032527',\n",
       " 'sub-032371',\n",
       " 'sub-032385',\n",
       " 'sub-032432.tar.gz',\n",
       " 'sub-032378',\n",
       " 'sub-032347',\n",
       " 'sub-032511',\n",
       " 'sub-032342.tar',\n",
       " 'sub-032356.tar',\n",
       " 'sub-032430.tar',\n",
       " 'sub-032418.tar',\n",
       " 'sub-032516',\n",
       " 'sub-032340',\n",
       " 'sub-032323',\n",
       " 'sub-032368.tar',\n",
       " 'sub-032340.tar',\n",
       " 'sub-032486.tar.gz',\n",
       " 'sub-032354.tar',\n",
       " 'sub-032383.tar',\n",
       " 'sub-032498.tar.gz',\n",
       " 'sub-032324',\n",
       " 'sub-032312',\n",
       " 'sub-032494.tar.gz',\n",
       " 'sub-032315',\n",
       " 'sub-032528',\n",
       " 'sub-032517',\n",
       " 'sub-032341',\n",
       " 'sub-032346',\n",
       " 'sub-032390.tar.gz',\n",
       " 'sub-032510',\n",
       " 'sub-032519',\n",
       " 'sub-032384',\n",
       " 'sub-032526',\n",
       " 'sub-032370',\n",
       " 'sub-032382.tar',\n",
       " 'sub-032348',\n",
       " 'sub-032377',\n",
       " 'sub-032521',\n",
       " 'sub-032341.tar',\n",
       " 'sub-032369.tar',\n",
       " 'sub-032383',\n",
       " 'sub-032345.tar',\n",
       " 'sub-032351.tar',\n",
       " 'sub-032453',\n",
       " 'sub-032488.tar.gz',\n",
       " 'sub-032498',\n",
       " 'sub-032386.tar',\n",
       " 'sub-032496.tar.gz',\n",
       " 'sub-032496',\n",
       " 'sub-032491',\n",
       " 'sub-032484.tar.gz',\n",
       " 'sub-032465',\n",
       " 'sub-032380.tar.gz',\n",
       " 'sub-032431',\n",
       " 'sub-032409',\n",
       " 'sub-032436',\n",
       " 'sub-032392.tar.gz',\n",
       " 'sub-032400',\n",
       " 'sub-032438',\n",
       " 'sub-032350.tar',\n",
       " 'sub-032344.tar',\n",
       " 'sub-032346.tar',\n",
       " 'sub-032464',\n",
       " 'sub-032490',\n",
       " 'sub-032514.tar.gz',\n",
       " 'sub-032497',\n",
       " 'sub-032414.tar.gz',\n",
       " 'sub-032463',\n",
       " 'sub-032455',\n",
       " 'sub-032518.tar.gz',\n",
       " 'sub-032406.tar.gz',\n",
       " 'sub-032452',\n",
       " 'sub-032506.tar.gz',\n",
       " 'sub-032499',\n",
       " 'sub-032439',\n",
       " 'sub-032406',\n",
       " 'sub-032401',\n",
       " 'sub-032408',\n",
       " 'sub-032441.tar.gz',\n",
       " 'sub-032437',\n",
       " 'sub-032384.tar',\n",
       " 'sub-032522.tar.gz',\n",
       " 'sub-032373.tar.gz',\n",
       " 'sub-032422.tar.gz',\n",
       " 'sub-032430',\n",
       " 'sub-032347.tar',\n",
       " 'sub-032421.tar',\n",
       " 'sub-032353.tar',\n",
       " 'sub-032503.tar.gz',\n",
       " 'sub-032403.tar.gz',\n",
       " 'sub-032362.tar',\n",
       " 'sub-032480',\n",
       " 'sub-032474',\n",
       " 'sub-032473',\n",
       " 'sub-032487',\n",
       " 'sub-032411.tar.gz',\n",
       " 'sub-032511.tar.gz',\n",
       " 'sub-032445',\n",
       " 'sub-032489',\n",
       " 'sub-032442',\n",
       " 'sub-032427.tar.gz',\n",
       " 'sub-032527.tar.gz',\n",
       " 'sub-032416',\n",
       " 'sub-032429',\n",
       " 'sub-032411',\n",
       " 'sub-032439.tar.gz',\n",
       " 'sub-032427',\n",
       " 'sub-032435.tar.gz',\n",
       " 'sub-032418',\n",
       " 'sub-032420',\n",
       " 'sub-032405.tar',\n",
       " 'sub-032363.tar',\n",
       " 'sub-032349.tar',\n",
       " 'sub-032481.tar.gz',\n",
       " 'sub-032361.tar',\n",
       " 'sub-032488',\n",
       " 'sub-032443',\n",
       " 'sub-032444',\n",
       " 'sub-032493.tar.gz',\n",
       " 'sub-032486',\n",
       " 'sub-032472',\n",
       " 'sub-032475',\n",
       " 'sub-032481',\n",
       " 'sub-032421',\n",
       " 'sub-032389.tar.gz',\n",
       " 'sub-032426',\n",
       " 'sub-032397.tar.gz',\n",
       " 'sub-032419',\n",
       " 'sub-032410',\n",
       " 'sub-032417',\n",
       " 'sub-032374.tar',\n",
       " 'sub-032385.tar.gz',\n",
       " 'sub-032348.tar',\n",
       " 'sub-032364.tar',\n",
       " 'sub-032358.tar',\n",
       " 'sub-032333',\n",
       " 'sub-032491.tar.gz',\n",
       " 'sub-032334',\n",
       " 'sub-032302',\n",
       " 'sub-032483.tar.gz',\n",
       " 'sub-032305',\n",
       " 'sub-032351',\n",
       " 'sub-032507',\n",
       " 'sub-032387.tar.gz',\n",
       " 'sub-032500',\n",
       " 'sub-032356',\n",
       " 'sub-032369',\n",
       " 'sub-032360',\n",
       " 'sub-032394',\n",
       " 'sub-032509',\n",
       " 'sub-032395.tar.gz',\n",
       " 'sub-032393',\n",
       " 'sub-032367',\n",
       " 'sub-032359.tar',\n",
       " 'sub-032358',\n",
       " 'sub-032365.tar',\n",
       " 'sub-032415.tar',\n",
       " 'sub-032401.tar',\n",
       " 'sub-032304',\n",
       " 'sub-032398.tar',\n",
       " 'sub-032413.tar.gz',\n",
       " 'sub-032513.tar.gz',\n",
       " 'sub-032303',\n",
       " 'sub-032335',\n",
       " 'sub-032501.tar.gz',\n",
       " 'sub-032332',\n",
       " 'sub-032366',\n",
       " 'sub-032392',\n",
       " 'sub-032378.tar.gz',\n",
       " 'sub-032429.tar.gz',\n",
       " 'sub-032359',\n",
       " 'sub-032395',\n",
       " 'sub-032437.tar.gz',\n",
       " 'sub-032361',\n",
       " 'sub-032508',\n",
       " 'sub-032501',\n",
       " 'sub-032357',\n",
       " 'sub-032368',\n",
       " 'sub-032425.tar.gz',\n",
       " 'sub-032399.tar',\n",
       " 'sub-032350',\n",
       " 'sub-032506',\n",
       " 'sub-032525.tar.gz',\n",
       " 'sub-032458.tar.gz',\n",
       " 'sub-032366.tar',\n",
       " 'sub-032329.tar',\n",
       " 'sub-032391.tar.gz',\n",
       " 'sub-032315.tar',\n",
       " 'sub-032301.tar',\n",
       " 'sub-032524',\n",
       " 'sub-032386',\n",
       " 'sub-032381',\n",
       " 'sub-032375',\n",
       " 'sub-032523',\n",
       " 'sub-032388',\n",
       " 'sub-032515',\n",
       " 'sub-032343',\n",
       " 'sub-032344',\n",
       " 'sub-032512',\n",
       " 'sub-032310',\n",
       " 'sub-032499.tar.gz',\n",
       " 'sub-032317',\n",
       " 'sub-032328',\n",
       " 'sub-032487.tar.gz',\n",
       " 'sub-032321',\n",
       " 'sub-032326',\n",
       " 'sub-032319',\n",
       " 'sub-032472.tar',\n",
       " 'sub-032314.tar',\n",
       " 'sub-032495.tar.gz',\n",
       " 'sub-032464.tar',\n",
       " 'sub-032302.tar',\n",
       " 'sub-032316.tar',\n",
       " 'sub-032470.tar',\n",
       " 'sub-032345',\n",
       " 'sub-032513',\n",
       " 'sub-032389',\n",
       " 'sub-032370.tar.gz',\n",
       " 'sub-032514',\n",
       " 'sub-032521.tar.gz',\n",
       " 'sub-032342',\n",
       " 'sub-032450.tar.gz',\n",
       " 'sub-032374',\n",
       " 'sub-032522',\n",
       " 'sub-032380',\n",
       " 'sub-032387',\n",
       " 'sub-032433.tar.gz',\n",
       " 'sub-032525',\n",
       " 'sub-032373',\n",
       " 'sub-032466.tar.gz',\n",
       " 'sub-032327',\n",
       " 'sub-032318',\n",
       " 'sub-032320',\n",
       " 'sub-032505.tar.gz',\n",
       " 'sub-032316',\n",
       " 'sub-032409.tar.gz',\n",
       " 'sub-032329',\n",
       " 'sub-032509.tar.gz',\n",
       " 'sub-032311',\n",
       " 'sub-032317.tar',\n",
       " 'sub-032471.tar',\n",
       " 'sub-032465.tar',\n",
       " 'sub-032303.tar',\n",
       " 'sub-032417.tar.gz',\n",
       " 'sub-032459.tar',\n",
       " 'sub-032517.tar.gz',\n",
       " 'sub-032307.tar',\n",
       " 'sub-032313.tar',\n",
       " 'sub-032449.tar',\n",
       " 'sub-032435',\n",
       " 'sub-032360.tar.gz',\n",
       " 'sub-032452.tar.gz',\n",
       " 'sub-032432',\n",
       " 'sub-032423.tar.gz',\n",
       " 'sub-032523.tar.gz',\n",
       " 'sub-032440.tar.gz',\n",
       " 'sub-032403',\n",
       " 'sub-032468.tar.gz',\n",
       " 'sub-032457',\n",
       " 'sub-032468',\n",
       " 'sub-032515.tar.gz',\n",
       " 'sub-032528.tar',\n",
       " 'sub-032450',\n",
       " 'sub-032492',\n",
       " 'sub-032466',\n",
       " 'sub-032507.tar.gz',\n",
       " 'sub-032407.tar.gz',\n",
       " 'sub-032459',\n",
       " 'sub-032461',\n",
       " 'sub-032495',\n",
       " 'sub-032474.tar',\n",
       " 'sub-032519.tar.gz',\n",
       " 'sub-032312.tar',\n",
       " 'sub-032306.tar',\n",
       " 'sub-032460.tar',\n",
       " 'sub-032419.tar.gz',\n",
       " 'sub-032310.tar',\n",
       " 'sub-032476.tar',\n",
       " 'sub-032338.tar',\n",
       " 'sub-032402',\n",
       " 'sub-032381.tar.gz',\n",
       " 'sub-032405',\n",
       " 'sub-032433',\n",
       " 'sub-032393.tar.gz',\n",
       " 'sub-032434',\n",
       " 'sub-032494',\n",
       " 'sub-032460',\n",
       " 'sub-032497.tar.gz',\n",
       " 'sub-032467',\n",
       " 'sub-032493',\n",
       " 'sub-032458',\n",
       " 'sub-032489.tar.gz',\n",
       " 'sub-032451',\n",
       " 'sub-032485.tar.gz',\n",
       " 'sub-032456',\n",
       " 'sub-032339.tar',\n",
       " 'sub-032469',\n",
       " 'sub-032305.tar',\n",
       " 'sub-032311.tar',\n",
       " 'sub-032477.tar']"
      ]
     },
     "execution_count": 5,
     "metadata": {},
     "output_type": "execute_result"
    }
   ],
   "source": [
    "path = '/Users/giovanni/Documents/Datasets/LEMON/physio'\n",
    "listdir(path)"
   ]
  },
  {
   "cell_type": "code",
   "execution_count": null,
   "metadata": {},
   "outputs": [],
   "source": []
  }
 ],
 "metadata": {
  "interpreter": {
   "hash": "07b5df39407adffaec2de2c84e045aa1a21d1b33b060de895d69ac77d0788dba"
  },
  "kernelspec": {
   "display_name": "Python 3.9.7 ('biomkr_397')",
   "language": "python",
   "name": "python3"
  },
  "language_info": {
   "codemirror_mode": {
    "name": "ipython",
    "version": 3
   },
   "file_extension": ".py",
   "mimetype": "text/x-python",
   "name": "python",
   "nbconvert_exporter": "python",
   "pygments_lexer": "ipython3",
   "version": "3.9.7"
  },
  "orig_nbformat": 4
 },
 "nbformat": 4,
 "nbformat_minor": 2
}
