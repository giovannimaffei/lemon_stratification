{
 "cells": [
  {
   "cell_type": "code",
   "execution_count": 506,
   "metadata": {},
   "outputs": [],
   "source": [
    "import matplotlib.pyplot as plt\n",
    "import numpy as np\n",
    "import pandas as pd\n",
    "import statsmodels.api as sm\n",
    "from os import listdir\n",
    "from scipy.stats import zscore\n",
    "from sklearn.decomposition import PCA\n",
    "from sklearn.manifold import SpectralEmbedding, TSNE, MDS\n",
    "from sklearn.preprocessing import MinMaxScaler\n",
    "from sklearn.cluster import AgglomerativeClustering\n",
    "from sklearn.base import clone\n",
    "from sklearn.utils import check_random_state\n",
    "import statsmodels.api as sm\n",
    "import statsmodels.formula.api as smf\n",
    "\n",
    "from stargazer.stargazer import Stargazer"
   ]
  },
  {
   "cell_type": "code",
   "execution_count": null,
   "metadata": {},
   "outputs": [],
   "source": [
    "def cluster_stability(X, est, n_iter=20, random_state=None):\n",
    "    labels = []\n",
    "    indices = []\n",
    "    for i in range(n_iter):\n",
    "        sample_indices = rng.randint(0, X.shape[0], X.shape[0])\n",
    "        indices.append(sample_indices)\n",
    "        est = clone(est)\n",
    "        if hasattr(est, \"random_state\"):\n",
    "            est.random_state = rng.randint(1e5)\n",
    "        X_bootstrap = X[sample_indices]\n",
    "        est.fit(X_bootstrap)\n",
    "        relabel = -np.ones(X.shape[0], dtype=np.int32)\n",
    "        relabel[sample_indices] = est.labels_\n",
    "        labels.append(relabel)\n",
    "    scores = []\n",
    "    for l, i in zip(labels, indices):\n",
    "        for k, j in zip(labels, indices):\n",
    "            in_both = np.intersect1d(i, j)\n",
    "            scores.append(adjusted_rand_score(l[in_both], k[in_both]))\n",
    "    return np.mean(scores)"
   ]
  },
  {
   "cell_type": "code",
   "execution_count": null,
   "metadata": {},
   "outputs": [],
   "source": [
    "X_rnd = np.random.random(X.shape)"
   ]
  },
  {
   "cell_type": "code",
   "execution_count": 477,
   "metadata": {},
   "outputs": [],
   "source": []
  },
  {
   "cell_type": "code",
   "execution_count": 190,
   "metadata": {},
   "outputs": [],
   "source": [
    "emotion_scales_path = '/Users/giovanni/Documents/Datasets/LEMON/Behavioural_Data_MPILMBB_LEMON/Emotion_and_Personality_Test_Battery_LEMON/'\n",
    "scale_names = [s.split('.')[0] for s in listdir(emotion_scales_path) if s.split('.')[1] == 'csv']\n",
    "emotion_scales = {}\n",
    "\n",
    "for sn in scale_names:\n",
    "    scale_path = emotion_scales_path+sn+'.csv'\n",
    "    s = pd.read_csv(scale_path)\n",
    "    emotion_scales[sn]=s"
   ]
  },
  {
   "cell_type": "code",
   "execution_count": 191,
   "metadata": {},
   "outputs": [],
   "source": [
    "scale = emotion_scales['TICS']\n",
    "scale = scale.rename(columns={'Unnamed: 0':'sbj_id'})\n",
    "\n",
    "scale_df = scale\n",
    "\n",
    "\n",
    "scale = emotion_scales['PSQ']\n",
    "scale = scale.replace(' ', np.nan)\n",
    "scale = scale.dropna()\n",
    "scale = scale.rename(columns={'Unnamed: 0':'sbj_id'})\n",
    "scale = scale.astype({'PSQ_Worries': 'float', 'PSQ_Tension': 'float', 'PSQ_Joy': 'float', 'PSQ_Demands': 'float', 'PSQ_OverallScore': 'float'})\n",
    "\n",
    "scale_df = scale_df.merge(scale, on='sbj_id', how='left')\n",
    "\n",
    "\n",
    "scale = emotion_scales['STAI_G_X2']\n",
    "scale = scale.rename(columns={'Unnamed: 0':'sbj_id'})\n",
    "\n",
    "scale_df = scale_df.merge(scale, on='sbj_id', how='left').dropna()\n",
    "\n",
    "\n",
    "z_question = zscore(scale_df[scale_df.columns[1:]].values, axis=0)\n",
    "pca = PCA(n_components=3)\n",
    "pca_question = pca.fit_transform(z_question)\n",
    "\n",
    "scale_df['q_pca_1'] = pca_question[:,0]\n",
    "scale_df['q_pca_2'] = pca_question[:,1]\n",
    "scale_df['q_pca_3'] = pca_question[:,2]\n",
    "\n",
    "scale_cols = scale_df.columns[1:]"
   ]
  },
  {
   "cell_type": "code",
   "execution_count": 192,
   "metadata": {},
   "outputs": [],
   "source": [
    "subject_meta_path = '/Users/giovanni/Documents/Datasets/LEMON/Behavioural_Data_MPILMBB_LEMON/META_File_IDs_Age_Gender_Education_Drug_Smoke_SKID_LEMON.csv'\n",
    "subject_meta_df = pd.read_csv(subject_meta_path)\n",
    "subject_meta_df = subject_meta_df.rename(columns={'Unnamed: 0':'sbj_id'})\n",
    "subject_meta_df = subject_meta_df.rename(columns={'Gender_ 1=female_2=male':'gender'})\n",
    "subject_meta_df['gender'] = subject_meta_df['gender'] -1 \n",
    "subject_meta_df['Standard_Alcoholunits_Last_28days'] = subject_meta_df['Standard_Alcoholunits_Last_28days'].fillna('-1').apply(lambda x: x.replace(',','.')).astype(float)\n",
    "\n",
    "for colname in subject_meta_df.columns:\n",
    "    if (subject_meta_df.dtypes == 'object')[colname] == False:\n",
    "        continue\n",
    "    col = subject_meta_df[colname]\n",
    "    code_dict = {k:v for v,k in enumerate(col.unique())}\n",
    "    code_col = pd.DataFrame({colname+'_coded':[code_dict[c] for c in col]})\n",
    "    subject_meta_df = subject_meta_df.join(code_col)\n",
    "\n",
    "subject_meta_df['Age_num'] = subject_meta_df['Age'].apply(lambda x: np.mean(list(map(int, x.split('-')))))\n",
    "subject_meta_df['Smoking_coded_bin'] = (subject_meta_df['Smoking_num_(Non-smoker=1, Occasional Smoker=2, Smoker=3)'] > 1).astype(int)"
   ]
  },
  {
   "cell_type": "code",
   "execution_count": 193,
   "metadata": {},
   "outputs": [],
   "source": [
    "processed_data_path = '/Users/giovanni/Documents/Datasets/LEMON/processed/'\n",
    "hrv_df = pd.read_json(processed_data_path+'LEMON_ppg_features.json')\n",
    "hrv_df = hrv_df.rename(columns={'sd1/sd2':'sd1_sd2'})\n",
    "hrv_df = hrv_df.groupby('sbj_id').mean().reset_index()"
   ]
  },
  {
   "cell_type": "code",
   "execution_count": 194,
   "metadata": {},
   "outputs": [],
   "source": [
    "processed_data_path = '/Users/giovanni/Documents/Datasets/LEMON/processed/'\n",
    "\n",
    "fmri_df = pd.read_json(processed_data_path+'LEMON_fmri_rs_features_DMN_complete.json')[:]\n",
    "fmri_df['DMN_amp_mean_PPC_LTJ'] = fmri_df[['DMN_amp_mean_PCC', 'DMN_amp_mean_LTJ']].mean(1)"
   ]
  },
  {
   "cell_type": "code",
   "execution_count": 231,
   "metadata": {},
   "outputs": [
    {
     "data": {
      "text/plain": [
       "Index(['DMN_cor_mean', 'DMN_cor_std', 'DMN_cor_PCC_LTJ', 'DMN_cor_PCC_RTJ',\n",
       "       'DMN_cor_PCC_MPC', 'DMN_cor_LTJ_RTJ', 'DMN_cor_LTJ_MPC',\n",
       "       'DMN_cor_RTJ_MPC', 'DMN_par_mean', 'DMN_par_std', 'DMN_par_PCC_LTJ',\n",
       "       'DMN_par_PCC_RTJ', 'DMN_par_PCC_MPC', 'DMN_par_LTJ_RTJ',\n",
       "       'DMN_par_LTJ_MPC', 'DMN_par_RTJ_MPC', 'DMN_amp_tot_mean',\n",
       "       'DMN_amp_tot_std', 'DMN_amp_mean_PCC', 'DMN_amp_mean_LTJ',\n",
       "       'DMN_amp_mean_RTJ', 'DMN_amp_mean_MPC', 'DMN_amp_max_PCC',\n",
       "       'DMN_amp_max_LTJ', 'DMN_amp_max_RTJ', 'DMN_amp_max_MPC', 'sbj_id',\n",
       "       'DMN_amp_mean_PPC_LTJ', 'ses_id', 'run_id', 'peak_rej_rate',\n",
       "       'hrv_rej_rate', 'bpm', 'ibi', 'pnn20', 'pnn50', 'hr_mad', 'sd1', 'sd2',\n",
       "       's', 'sd1_sd2', 'breathingrate', 'sdnn_hr', 'sdsd_hr', 'rmssd_hr',\n",
       "       'mean_nni', 'sdnn', 'sdsd', 'nni_50', 'pnni_50', 'nni_20', 'pnni_20',\n",
       "       'rmssd', 'median_nni', 'range_nni', 'cvsd', 'cvnni', 'mean_hr',\n",
       "       'max_hr', 'min_hr', 'std_hr', 'lf', 'hf', 'lf_hf_ratio', 'lfnu', 'hfnu',\n",
       "       'total_power', 'vlf', 'gender', 'Age_num', 'Smoking_coded_bin',\n",
       "       'TICS_WorkOverload', 'TICS_SocialOverload', 'TICS_PressuereToPerform',\n",
       "       'TICS_WorkDiscontent', 'TICS_WorkDemands', 'TICS_LackSocialRecognition',\n",
       "       'TICS_SocialTension', 'TICS_SocialIsolation', 'TICS_ChronicWorrying',\n",
       "       'TICS_ScreeningScale', 'PSQ_Worries', 'PSQ_Tension', 'PSQ_Joy',\n",
       "       'PSQ_Demands', 'PSQ_OverallScore', 'STAI_Trait_Anxiety', 'q_pca_1',\n",
       "       'q_pca_2', 'q_pca_3', 'cluster_lbl'],\n",
       "      dtype='object')"
      ]
     },
     "execution_count": 231,
     "metadata": {},
     "output_type": "execute_result"
    }
   ],
   "source": [
    "hp_test_df.columns"
   ]
  },
  {
   "cell_type": "code",
   "execution_count": 403,
   "metadata": {},
   "outputs": [],
   "source": [
    "hp_test_df = fmri_df.merge(hrv_df, on='sbj_id', how='left').dropna()\n",
    "\n",
    "hp_test_df = hp_test_df.merge(subject_meta_df[['sbj_id',\n",
    "                                               'gender', \n",
    "                                               'Age_num',\n",
    "                                               'Smoking_coded_bin']], on='sbj_id', how='left').dropna()\n",
    "\n",
    "hp_test_df = hp_test_df.merge(scale_df, on='sbj_id', how='left').dropna()\n"
   ]
  },
  {
   "cell_type": "code",
   "execution_count": 426,
   "metadata": {},
   "outputs": [],
   "source": [
    "col_selection = ['DMN_amp_mean_PCC', 'DMN_amp_mean_LTJ', 'sd1_sd2', 'Age_num', 'gender']\n",
    "exp_df = hp_test_df[col_selection]\n",
    "exp_df = exp_df.apply(zscore, axis=0)\n",
    "X = exp_df.values"
   ]
  },
  {
   "cell_type": "code",
   "execution_count": 481,
   "metadata": {},
   "outputs": [],
   "source": [
    "### this should be collapsed into one function\n",
    "\n",
    "\n",
    "n_cl = np.arange(2, 20).astype(int)\n",
    "stb = []\n",
    "\n",
    "for n_clusters in n_cl:\n",
    "    km = AgglomerativeClustering(n_clusters=n_clusters)\n",
    "    km.fit(X)\n",
    "    stability = cluster_stability(X, AgglomerativeClustering(n_clusters=n_clusters), n_iter=20)\n",
    "    stb.append(stability)\n",
    "\n",
    "\n",
    "\n",
    "n_cl = np.arange(2, 20).astype(int)\n",
    "rnd_stb = []\n",
    "\n",
    "for n_clusters in n_cl:\n",
    "    km = AgglomerativeClustering(n_clusters=n_clusters)\n",
    "    km.fit(X_rnd)\n",
    "    stability = cluster_stability(X_rnd, AgglomerativeClustering(n_clusters=n_clusters), n_iter=20)\n",
    "    rnd_stb.append(stability)"
   ]
  },
  {
   "cell_type": "code",
   "execution_count": 504,
   "metadata": {},
   "outputs": [
    {
     "data": {
      "image/png": "[encoded data removed]",
      "text/plain": [
       "<Figure size 432x288 with 1 Axes>"
      ]
     },
     "metadata": {
      "needs_background": "light"
     },
     "output_type": "display_data"
    }
   ],
   "source": [
    "plt.axvline(5, c='g', ls='--', label='optimal')\n",
    "plt.plot(n_cl, stb, 'ko-', label='data')\n",
    "plt.plot(n_cl, rnd_stb, 'ko--', alpha=.4, label='random baseline')\n",
    "\n",
    "\n",
    "plt.legend(loc=4, frameon=False, fontsize=12)\n",
    "plt.xlabel('number of clusters', fontsize=15)\n",
    "plt.ylabel('stability', fontsize=15)\n",
    "plt.gca().spines['right'].set_visible(False)\n",
    "plt.gca().spines['top'].set_visible(False)"
   ]
  },
  {
   "cell_type": "markdown",
   "metadata": {},
   "source": [
    "### Running clustering with optimal "
   ]
  },
  {
   "cell_type": "code",
   "execution_count": 432,
   "metadata": {},
   "outputs": [
    {
     "data": {
      "text/plain": [
       "AgglomerativeClustering(n_clusters=5)"
      ]
     },
     "execution_count": 432,
     "metadata": {},
     "output_type": "execute_result"
    }
   ],
   "source": [
    "clustering = AgglomerativeClustering(n_clusters=5)\n",
    "clustering.fit(X)\n",
    "hp_test_df['cluster_lbl'] = pd.DataFrame({'cluster_lbl': clustering.labels_})\n",
    "\n",
    "embedding = MDS(n_components=3) # 3\n",
    "X_ld = embedding.fit_transform(X)"
   ]
  },
  {
   "cell_type": "code",
   "execution_count": 462,
   "metadata": {},
   "outputs": [
    {
     "data": {
      "image/png": "[encoded data removed]",
      "text/plain": [
       "<Figure size 360x360 with 1 Axes>"
      ]
     },
     "metadata": {
      "needs_background": "light"
     },
     "output_type": "display_data"
    }
   ],
   "source": [
    "plt.figure(figsize=(5,5))\n",
    "plt.scatter(X_ld[:,0], X_ld[:,1], c=clustering.labels_, alpha=.5, s=150, lw=0)\n",
    "plt.xlabel('principal comp. 1', fontsize=15)\n",
    "plt.ylabel('principal comp. 2', fontsize=15)\n",
    "plt.gca().spines['right'].set_visible(False)\n",
    "plt.gca().spines['top'].set_visible(False)"
   ]
  },
  {
   "cell_type": "code",
   "execution_count": 434,
   "metadata": {},
   "outputs": [],
   "source": [
    "\n"
   ]
  },
  {
   "cell_type": "code",
   "execution_count": 515,
   "metadata": {},
   "outputs": [],
   "source": []
  },
  {
   "cell_type": "code",
   "execution_count": 509,
   "metadata": {},
   "outputs": [
    {
     "data": {
      "text/html": [
       "<table class=\"simpletable\">\n",
       "<caption>OLS Regression Results</caption>\n",
       "<tr>\n",
       "  <th>Dep. Variable:</th>    <td>STAI_Trait_Anxiety</td> <th>  R-squared:         </th> <td>   0.118</td>\n",
       "</tr>\n",
       "<tr>\n",
       "  <th>Model:</th>                    <td>OLS</td>        <th>  Adj. R-squared:    </th> <td>   0.083</td>\n",
       "</tr>\n",
       "<tr>\n",
       "  <th>Method:</th>              <td>Least Squares</td>   <th>  F-statistic:       </th> <td>   3.366</td>\n",
       "</tr>\n",
       "<tr>\n",
       "  <th>Date:</th>              <td>Fri, 22 Apr 2022</td>  <th>  Prob (F-statistic):</th>  <td>0.0125</td> \n",
       "</tr>\n",
       "<tr>\n",
       "  <th>Time:</th>                  <td>14:02:46</td>      <th>  Log-Likelihood:    </th> <td> -374.75</td>\n",
       "</tr>\n",
       "<tr>\n",
       "  <th>No. Observations:</th>       <td>   106</td>       <th>  AIC:               </th> <td>   759.5</td>\n",
       "</tr>\n",
       "<tr>\n",
       "  <th>Df Residuals:</th>           <td>   101</td>       <th>  BIC:               </th> <td>   772.8</td>\n",
       "</tr>\n",
       "<tr>\n",
       "  <th>Df Model:</th>               <td>     4</td>       <th>                     </th>     <td> </td>   \n",
       "</tr>\n",
       "<tr>\n",
       "  <th>Covariance Type:</th>       <td>nonrobust</td>     <th>                     </th>     <td> </td>   \n",
       "</tr>\n",
       "</table>\n",
       "<table class=\"simpletable\">\n",
       "<tr>\n",
       "           <td></td>              <th>coef</th>     <th>std err</th>      <th>t</th>      <th>P>|t|</th>  <th>[0.025</th>    <th>0.975]</th>  \n",
       "</tr>\n",
       "<tr>\n",
       "  <th>Intercept</th>           <td>   41.6071</td> <td>    1.607</td> <td>   25.888</td> <td> 0.000</td> <td>   38.419</td> <td>   44.795</td>\n",
       "</tr>\n",
       "<tr>\n",
       "  <th>C(cluster_lbl)[T.1]</th> <td>   -8.6071</td> <td>    2.615</td> <td>   -3.292</td> <td> 0.001</td> <td>  -13.794</td> <td>   -3.420</td>\n",
       "</tr>\n",
       "<tr>\n",
       "  <th>C(cluster_lbl)[T.2]</th> <td>   -6.3294</td> <td>    2.569</td> <td>   -2.463</td> <td> 0.015</td> <td>  -11.426</td> <td>   -1.233</td>\n",
       "</tr>\n",
       "<tr>\n",
       "  <th>C(cluster_lbl)[T.3]</th> <td>   -5.0794</td> <td>    2.143</td> <td>   -2.370</td> <td> 0.020</td> <td>   -9.330</td> <td>   -0.828</td>\n",
       "</tr>\n",
       "<tr>\n",
       "  <th>C(cluster_lbl)[T.4]</th> <td>   -7.1786</td> <td>    3.594</td> <td>   -1.997</td> <td> 0.048</td> <td>  -14.308</td> <td>   -0.049</td>\n",
       "</tr>\n",
       "</table>\n",
       "<table class=\"simpletable\">\n",
       "<tr>\n",
       "  <th>Omnibus:</th>       <td> 6.988</td> <th>  Durbin-Watson:     </th> <td>   2.181</td>\n",
       "</tr>\n",
       "<tr>\n",
       "  <th>Prob(Omnibus):</th> <td> 0.030</td> <th>  Jarque-Bera (JB):  </th> <td>   3.426</td>\n",
       "</tr>\n",
       "<tr>\n",
       "  <th>Skew:</th>          <td> 0.183</td> <th>  Prob(JB):          </th> <td>   0.180</td>\n",
       "</tr>\n",
       "<tr>\n",
       "  <th>Kurtosis:</th>      <td> 2.199</td> <th>  Cond. No.          </th> <td>    5.63</td>\n",
       "</tr>\n",
       "</table><br/><br/>Notes:<br/>[1] Standard Errors assume that the covariance matrix of the errors is correctly specified."
      ],
      "text/plain": [
       "<class 'statsmodels.iolib.summary.Summary'>\n",
       "\"\"\"\n",
       "                            OLS Regression Results                            \n",
       "==============================================================================\n",
       "Dep. Variable:     STAI_Trait_Anxiety   R-squared:                       0.118\n",
       "Model:                            OLS   Adj. R-squared:                  0.083\n",
       "Method:                 Least Squares   F-statistic:                     3.366\n",
       "Date:                Fri, 22 Apr 2022   Prob (F-statistic):             0.0125\n",
       "Time:                        14:02:46   Log-Likelihood:                -374.75\n",
       "No. Observations:                 106   AIC:                             759.5\n",
       "Df Residuals:                     101   BIC:                             772.8\n",
       "Df Model:                           4                                         \n",
       "Covariance Type:            nonrobust                                         \n",
       "=======================================================================================\n",
       "                          coef    std err          t      P>|t|      [0.025      0.975]\n",
       "---------------------------------------------------------------------------------------\n",
       "Intercept              41.6071      1.607     25.888      0.000      38.419      44.795\n",
       "C(cluster_lbl)[T.1]    -8.6071      2.615     -3.292      0.001     -13.794      -3.420\n",
       "C(cluster_lbl)[T.2]    -6.3294      2.569     -2.463      0.015     -11.426      -1.233\n",
       "C(cluster_lbl)[T.3]    -5.0794      2.143     -2.370      0.020      -9.330      -0.828\n",
       "C(cluster_lbl)[T.4]    -7.1786      3.594     -1.997      0.048     -14.308      -0.049\n",
       "==============================================================================\n",
       "Omnibus:                        6.988   Durbin-Watson:                   2.181\n",
       "Prob(Omnibus):                  0.030   Jarque-Bera (JB):                3.426\n",
       "Skew:                           0.183   Prob(JB):                        0.180\n",
       "Kurtosis:                       2.199   Cond. No.                         5.63\n",
       "==============================================================================\n",
       "\n",
       "Notes:\n",
       "[1] Standard Errors assume that the covariance matrix of the errors is correctly specified.\n",
       "\"\"\""
      ]
     },
     "execution_count": 509,
     "metadata": {},
     "output_type": "execute_result"
    }
   ],
   "source": [
    "model_formula = 'STAI_Trait_Anxiety ~ C(cluster_lbl)'\n",
    "results_stai = smf.ols(model_formula, data=hp_test_df).fit()\n",
    "results_stai.summary()"
   ]
  },
  {
   "cell_type": "code",
   "execution_count": 510,
   "metadata": {},
   "outputs": [
    {
     "data": {
      "text/html": [
       "<table class=\"simpletable\">\n",
       "<caption>OLS Regression Results</caption>\n",
       "<tr>\n",
       "  <th>Dep. Variable:</th>    <td>PSQ_OverallScore</td> <th>  R-squared:         </th> <td>   0.204</td>\n",
       "</tr>\n",
       "<tr>\n",
       "  <th>Model:</th>                   <td>OLS</td>       <th>  Adj. R-squared:    </th> <td>   0.172</td>\n",
       "</tr>\n",
       "<tr>\n",
       "  <th>Method:</th>             <td>Least Squares</td>  <th>  F-statistic:       </th> <td>   6.458</td>\n",
       "</tr>\n",
       "<tr>\n",
       "  <th>Date:</th>             <td>Fri, 22 Apr 2022</td> <th>  Prob (F-statistic):</th> <td>0.000114</td>\n",
       "</tr>\n",
       "<tr>\n",
       "  <th>Time:</th>                 <td>14:02:49</td>     <th>  Log-Likelihood:    </th> <td> -430.31</td>\n",
       "</tr>\n",
       "<tr>\n",
       "  <th>No. Observations:</th>      <td>   106</td>      <th>  AIC:               </th> <td>   870.6</td>\n",
       "</tr>\n",
       "<tr>\n",
       "  <th>Df Residuals:</th>          <td>   101</td>      <th>  BIC:               </th> <td>   883.9</td>\n",
       "</tr>\n",
       "<tr>\n",
       "  <th>Df Model:</th>              <td>     4</td>      <th>                     </th>     <td> </td>   \n",
       "</tr>\n",
       "<tr>\n",
       "  <th>Covariance Type:</th>      <td>nonrobust</td>    <th>                     </th>     <td> </td>   \n",
       "</tr>\n",
       "</table>\n",
       "<table class=\"simpletable\">\n",
       "<tr>\n",
       "           <td></td>              <th>coef</th>     <th>std err</th>      <th>t</th>      <th>P>|t|</th>  <th>[0.025</th>    <th>0.975]</th>  \n",
       "</tr>\n",
       "<tr>\n",
       "  <th>Intercept</th>           <td>   41.9643</td> <td>    2.714</td> <td>   15.459</td> <td> 0.000</td> <td>   36.579</td> <td>   47.349</td>\n",
       "</tr>\n",
       "<tr>\n",
       "  <th>C(cluster_lbl)[T.1]</th> <td>  -19.5133</td> <td>    4.416</td> <td>   -4.418</td> <td> 0.000</td> <td>  -28.274</td> <td>  -10.752</td>\n",
       "</tr>\n",
       "<tr>\n",
       "  <th>C(cluster_lbl)[T.2]</th> <td>   -9.4643</td> <td>    4.339</td> <td>   -2.181</td> <td> 0.032</td> <td>  -18.073</td> <td>   -0.856</td>\n",
       "</tr>\n",
       "<tr>\n",
       "  <th>C(cluster_lbl)[T.3]</th> <td>  -13.6310</td> <td>    3.619</td> <td>   -3.766</td> <td> 0.000</td> <td>  -20.811</td> <td>   -6.451</td>\n",
       "</tr>\n",
       "<tr>\n",
       "  <th>C(cluster_lbl)[T.4]</th> <td>  -18.8690</td> <td>    6.070</td> <td>   -3.109</td> <td> 0.002</td> <td>  -30.910</td> <td>   -6.828</td>\n",
       "</tr>\n",
       "</table>\n",
       "<table class=\"simpletable\">\n",
       "<tr>\n",
       "  <th>Omnibus:</th>       <td> 4.342</td> <th>  Durbin-Watson:     </th> <td>   2.127</td>\n",
       "</tr>\n",
       "<tr>\n",
       "  <th>Prob(Omnibus):</th> <td> 0.114</td> <th>  Jarque-Bera (JB):  </th> <td>   3.481</td>\n",
       "</tr>\n",
       "<tr>\n",
       "  <th>Skew:</th>          <td> 0.329</td> <th>  Prob(JB):          </th> <td>   0.175</td>\n",
       "</tr>\n",
       "<tr>\n",
       "  <th>Kurtosis:</th>      <td> 2.405</td> <th>  Cond. No.          </th> <td>    5.63</td>\n",
       "</tr>\n",
       "</table><br/><br/>Notes:<br/>[1] Standard Errors assume that the covariance matrix of the errors is correctly specified."
      ],
      "text/plain": [
       "<class 'statsmodels.iolib.summary.Summary'>\n",
       "\"\"\"\n",
       "                            OLS Regression Results                            \n",
       "==============================================================================\n",
       "Dep. Variable:       PSQ_OverallScore   R-squared:                       0.204\n",
       "Model:                            OLS   Adj. R-squared:                  0.172\n",
       "Method:                 Least Squares   F-statistic:                     6.458\n",
       "Date:                Fri, 22 Apr 2022   Prob (F-statistic):           0.000114\n",
       "Time:                        14:02:49   Log-Likelihood:                -430.31\n",
       "No. Observations:                 106   AIC:                             870.6\n",
       "Df Residuals:                     101   BIC:                             883.9\n",
       "Df Model:                           4                                         \n",
       "Covariance Type:            nonrobust                                         \n",
       "=======================================================================================\n",
       "                          coef    std err          t      P>|t|      [0.025      0.975]\n",
       "---------------------------------------------------------------------------------------\n",
       "Intercept              41.9643      2.714     15.459      0.000      36.579      47.349\n",
       "C(cluster_lbl)[T.1]   -19.5133      4.416     -4.418      0.000     -28.274     -10.752\n",
       "C(cluster_lbl)[T.2]    -9.4643      4.339     -2.181      0.032     -18.073      -0.856\n",
       "C(cluster_lbl)[T.3]   -13.6310      3.619     -3.766      0.000     -20.811      -6.451\n",
       "C(cluster_lbl)[T.4]   -18.8690      6.070     -3.109      0.002     -30.910      -6.828\n",
       "==============================================================================\n",
       "Omnibus:                        4.342   Durbin-Watson:                   2.127\n",
       "Prob(Omnibus):                  0.114   Jarque-Bera (JB):                3.481\n",
       "Skew:                           0.329   Prob(JB):                        0.175\n",
       "Kurtosis:                       2.405   Cond. No.                         5.63\n",
       "==============================================================================\n",
       "\n",
       "Notes:\n",
       "[1] Standard Errors assume that the covariance matrix of the errors is correctly specified.\n",
       "\"\"\""
      ]
     },
     "execution_count": 510,
     "metadata": {},
     "output_type": "execute_result"
    }
   ],
   "source": [
    "model_formula = 'PSQ_OverallScore ~ C(cluster_lbl)'\n",
    "results_psq = smf.ols(model_formula, data=hp_test_df).fit()\n",
    "results_psq.summary()"
   ]
  },
  {
   "cell_type": "code",
   "execution_count": 511,
   "metadata": {},
   "outputs": [
    {
     "name": "stdout",
     "output_type": "stream",
     "text": [
      "\\begin{table}[!htbp] \\centering\n",
      "\\begin{tabular}{@{\\extracolsep{5pt}}lcc}\n",
      "\\\\[-1.8ex]\\hline\n",
      "\\hline \\\\[-1.8ex]\n",
      "\\\\[-1.8ex] & (1) & (2) \\\\\n",
      "\\hline \\\\[-1.8ex]\n",
      " Intercept & 41.607$^{***}$ & 41.964$^{***}$ \\\\\n",
      "  & (1.607) & (2.714) \\\\\n",
      " Cluster 1 & -8.607$^{***}$ & -19.513$^{***}$ \\\\\n",
      "  & (2.615) & (4.416) \\\\\n",
      " Cluster 2 & -6.329$^{**}$ & -9.464$^{**}$ \\\\\n",
      "  & (2.569) & (4.339) \\\\\n",
      " Cluster 3 & -5.079$^{**}$ & -13.631$^{***}$ \\\\\n",
      "  & (2.143) & (3.619) \\\\\n",
      " Cluster 4 & -7.179$^{**}$ & -18.869$^{***}$ \\\\\n",
      "  & (3.594) & (6.070) \\\\\n",
      "\\hline \\\\[-1.8ex]\n",
      " Observations & 106 & 106 \\\\\n",
      " $R^2$ & 0.118 & 0.204 \\\\\n",
      " Adjusted $R^2$ & 0.083 & 0.172 \\\\\n",
      " Residual Std. Error & 8.504 & 14.364  \\\\\n",
      " F Statistic & 3.366$^{**}$  & 6.458$^{***}$  \\\\\n",
      "\\hline\n",
      "\\hline \\\\[-1.8ex]\n",
      "\\textit{Note:} & \\multicolumn{2}{r}{$^{*}$p$<$0.1; $^{**}$p$<$0.05; $^{***}$p$<$0.01} \\\\\n",
      "\\end{tabular}\n",
      "\\end{table}\n"
     ]
    }
   ],
   "source": [
    "stargazer = Stargazer([results_stai, results_psq])\n",
    "stargazer.covariate_order(['Intercept', 'C(cluster_lbl)[T.1]', 'C(cluster_lbl)[T.2]', 'C(cluster_lbl)[T.3]', 'C(cluster_lbl)[T.4]'])\n",
    "stargazer.rename_covariates({\n",
    "    'C(cluster_lbl)[T.1]': 'Cluster 1',\n",
    "    'C(cluster_lbl)[T.2]': 'Cluster 2',\n",
    "    'C(cluster_lbl)[T.3]': 'Cluster 3',\n",
    "    'C(cluster_lbl)[T.4]': 'Cluster 4'\n",
    "    })\n",
    "stargazer.show_degrees_of_freedom(False)\n",
    "print(stargazer.render_latex())"
   ]
  },
  {
   "cell_type": "code",
   "execution_count": 436,
   "metadata": {},
   "outputs": [
    {
     "data": {
      "text/plain": [
       "(array([ 2.,  7., 15., 21., 13., 14., 15., 10.,  7.,  2.]),\n",
       " array([-18.60714286, -14.74642857, -10.88571429,  -7.025     ,\n",
       "         -3.16428571,   0.69642857,   4.55714286,   8.41785714,\n",
       "         12.27857143,  16.13928571,  20.        ]),\n",
       " <BarContainer object of 10 artists>)"
      ]
     },
     "execution_count": 436,
     "metadata": {},
     "output_type": "execute_result"
    },
    {
     "data": {
      "image/png": "[encoded data removed]",
      "text/plain": [
       "<Figure size 432x288 with 1 Axes>"
      ]
     },
     "metadata": {
      "needs_background": "light"
     },
     "output_type": "display_data"
    }
   ],
   "source": [
    "plt.hist(results.resid)\n"
   ]
  },
  {
   "cell_type": "code",
   "execution_count": null,
   "metadata": {},
   "outputs": [],
   "source": []
  },
  {
   "cell_type": "code",
   "execution_count": null,
   "metadata": {},
   "outputs": [],
   "source": []
  },
  {
   "cell_type": "code",
   "execution_count": null,
   "metadata": {},
   "outputs": [],
   "source": [
    "from sklearn.datasets import make_blobs, make_circles, make_moons\n",
    "from sklearn.metrics import adjusted_rand_score, silhouette_score, normalized_mutual_info_score, adjusted_mutual_info_score\n",
    "rng = np.random.RandomState(1)\n",
    "from sklearn.cluster import KMeans, DBSCAN, AgglomerativeClustering\n",
    "\n"
   ]
  },
  {
   "cell_type": "code",
   "execution_count": 419,
   "metadata": {},
   "outputs": [],
   "source": []
  },
  {
   "cell_type": "code",
   "execution_count": 469,
   "metadata": {},
   "outputs": [],
   "source": []
  },
  {
   "cell_type": "code",
   "execution_count": 479,
   "metadata": {},
   "outputs": [],
   "source": []
  },
  {
   "cell_type": "code",
   "execution_count": null,
   "metadata": {},
   "outputs": [],
   "source": []
  },
  {
   "cell_type": "code",
   "execution_count": null,
   "metadata": {},
   "outputs": [],
   "source": []
  }
 ],
 "metadata": {
  "interpreter": {
   "hash": "07b5df39407adffaec2de2c84e045aa1a21d1b33b060de895d69ac77d0788dba"
  },
  "kernelspec": {
   "display_name": "Python 3.9.7 ('biomkr_397')",
   "language": "python",
   "name": "python3"
  },
  "language_info": {
   "codemirror_mode": {
    "name": "ipython",
    "version": 3
   },
   "file_extension": ".py",
   "mimetype": "text/x-python",
   "name": "python",
   "nbconvert_exporter": "python",
   "pygments_lexer": "ipython3",
   "version": "3.9.7"
  },
  "orig_nbformat": 4
 },
 "nbformat": 4,
 "nbformat_minor": 2
}
