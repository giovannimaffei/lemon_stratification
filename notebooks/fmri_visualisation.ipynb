{
 "cells": [
  {
   "cell_type": "code",
   "execution_count": 122,
   "metadata": {},
   "outputs": [],
   "source": [
    "import matplotlib.pyplot as plt\n",
    "import numpy as np\n",
    "import pandas as pd\n",
    "from nilearn import image\n",
    "from nilearn.plotting import plot_carpet, plot_stat_map, plot_roi\n",
    "\n",
    "from nilearn import input_data\n",
    "from nilearn.connectome import ConnectivityMeasure\n",
    "from nilearn.maskers import NiftiSpheresMasker\n",
    "from nilearn import datasets\n",
    "from scipy.signal import hilbert\n",
    "from os import listdir"
   ]
  },
  {
   "cell_type": "code",
   "execution_count": 5,
   "metadata": {},
   "outputs": [],
   "source": [
    "dmn_coords = {'PCC':(0, -52, 18), # Posterior Cingulate Cortex\n",
    "              'LTJ':(-46, -68, 32), # Left Temporoparietal junction\n",
    "              'RTJ':(46, -68, 32), # Right Temporoparietal junction\n",
    "              'MPC':(1, 50, -5)} # Medial prefrontal cortex\n",
    "\n",
    "def get_network_masker(network_coords):\n",
    "\n",
    "    net_xyz = list(network_coords.values())\n",
    "    net_lbl = list(network_coords.keys())\n",
    "\n",
    "    masker = input_data.NiftiSpheresMasker(\n",
    "        net_xyz, radius=20,\n",
    "        detrend=True, standardize=False,\n",
    "        low_pass=0.1, high_pass=0.01, t_r=2,\n",
    "        memory='nilearn_cache', memory_level=1, verbose=0)\n",
    "    \n",
    "    return masker, net_lbl\n",
    "\n",
    "def extract_functional_conn(time_series, conn_type='correlation'):\n",
    "    \n",
    "    connectivity_measure = ConnectivityMeasure(kind=conn_type)\n",
    "    correlation_matrix = connectivity_measure.fit_transform([time_series])[0]\n",
    "    \n",
    "    return correlation_matrix"
   ]
  },
  {
   "cell_type": "code",
   "execution_count": 6,
   "metadata": {},
   "outputs": [],
   "source": [
    "processed_data_path = '/Users/giovanni/Documents/Datasets/LEMON/processed/'\n",
    "cls_df = pd.read_json(processed_data_path+'LEMON_subject_clusters.json')"
   ]
  },
  {
   "cell_type": "code",
   "execution_count": 124,
   "metadata": {},
   "outputs": [],
   "source": [
    "emotion_scales_path = '/Users/giovanni/Documents/Datasets/LEMON/Behavioural_Data_MPILMBB_LEMON/Emotion_and_Personality_Test_Battery_LEMON/'\n",
    "scale_names = [s.split('.')[0] for s in listdir(emotion_scales_path) if s.split('.')[1] == 'csv']\n",
    "emotion_scales = {}\n",
    "\n",
    "for sn in scale_names:\n",
    "    scale_path = emotion_scales_path+sn+'.csv'\n",
    "    s = pd.read_csv(scale_path)\n",
    "    emotion_scales[sn]=s\n",
    "\n",
    "scale = emotion_scales['TICS']\n",
    "scale = scale.rename(columns={'Unnamed: 0':'sbj_id'})\n",
    "\n",
    "scale_df = scale\n",
    "\n",
    "\n",
    "scale = emotion_scales['PSQ']\n",
    "scale = scale.replace(' ', np.nan)\n",
    "scale = scale.dropna()\n",
    "scale = scale.rename(columns={'Unnamed: 0':'sbj_id'})\n",
    "scale = scale.astype({'PSQ_Worries': 'float', 'PSQ_Tension': 'float', 'PSQ_Joy': 'float', 'PSQ_Demands': 'float', 'PSQ_OverallScore': 'float'})\n",
    "\n",
    "scale_df = scale_df.merge(scale, on='sbj_id', how='left')\n",
    "\n",
    "\n",
    "scale = emotion_scales['STAI_G_X2']\n",
    "scale = scale.rename(columns={'Unnamed: 0':'sbj_id'})\n",
    "\n",
    "scale_df = scale_df.merge(scale, on='sbj_id', how='left').dropna()\n",
    "\n",
    "scale_cols = scale_df.columns[1:]"
   ]
  },
  {
   "cell_type": "code",
   "execution_count": 18,
   "metadata": {},
   "outputs": [
    {
     "name": "stdout",
     "output_type": "stream",
     "text": [
      "----- sub-032485 -----\n",
      "----- sub-032449 -----\n"
     ]
    },
    {
     "name": "stderr",
     "output_type": "stream",
     "text": [
      "/Users/giovanni/opt/anaconda3/envs/biomkr_397/lib/python3.9/site-packages/nilearn/maskers/nifti_spheres_masker.py:403: UserWarning: Persisting input arguments took 4.46s to run.\n",
      "If this happens often in your code, it can cause performance problems \n",
      "(results will be correct in all cases). \n",
      "The reason for this is probably some large input arguments for a wrapped\n",
      " function (e.g. large strings).\n",
      "THIS IS A JOBLIB ISSUE. If you can, kindly provide the joblib's team with an\n",
      " example so that they can fix the problem.\n",
      "  signals, _ = self._cache(\n"
     ]
    },
    {
     "name": "stdout",
     "output_type": "stream",
     "text": [
      "----- sub-032362 -----\n"
     ]
    },
    {
     "name": "stderr",
     "output_type": "stream",
     "text": [
      "/Users/giovanni/opt/anaconda3/envs/biomkr_397/lib/python3.9/site-packages/nilearn/maskers/nifti_spheres_masker.py:403: UserWarning: Persisting input arguments took 4.45s to run.\n",
      "If this happens often in your code, it can cause performance problems \n",
      "(results will be correct in all cases). \n",
      "The reason for this is probably some large input arguments for a wrapped\n",
      " function (e.g. large strings).\n",
      "THIS IS A JOBLIB ISSUE. If you can, kindly provide the joblib's team with an\n",
      " example so that they can fix the problem.\n",
      "  signals, _ = self._cache(\n"
     ]
    },
    {
     "name": "stdout",
     "output_type": "stream",
     "text": [
      "----- sub-032344 -----\n"
     ]
    },
    {
     "name": "stderr",
     "output_type": "stream",
     "text": [
      "/Users/giovanni/opt/anaconda3/envs/biomkr_397/lib/python3.9/site-packages/nilearn/maskers/nifti_spheres_masker.py:403: UserWarning: Persisting input arguments took 4.53s to run.\n",
      "If this happens often in your code, it can cause performance problems \n",
      "(results will be correct in all cases). \n",
      "The reason for this is probably some large input arguments for a wrapped\n",
      " function (e.g. large strings).\n",
      "THIS IS A JOBLIB ISSUE. If you can, kindly provide the joblib's team with an\n",
      " example so that they can fix the problem.\n",
      "  signals, _ = self._cache(\n"
     ]
    },
    {
     "name": "stdout",
     "output_type": "stream",
     "text": [
      "----- sub-032470 -----\n"
     ]
    },
    {
     "name": "stderr",
     "output_type": "stream",
     "text": [
      "/Users/giovanni/opt/anaconda3/envs/biomkr_397/lib/python3.9/site-packages/nilearn/maskers/nifti_spheres_masker.py:403: UserWarning: Persisting input arguments took 4.50s to run.\n",
      "If this happens often in your code, it can cause performance problems \n",
      "(results will be correct in all cases). \n",
      "The reason for this is probably some large input arguments for a wrapped\n",
      " function (e.g. large strings).\n",
      "THIS IS A JOBLIB ISSUE. If you can, kindly provide the joblib's team with an\n",
      " example so that they can fix the problem.\n",
      "  signals, _ = self._cache(\n"
     ]
    },
    {
     "name": "stdout",
     "output_type": "stream",
     "text": [
      "----- sub-032501 -----\n"
     ]
    },
    {
     "name": "stderr",
     "output_type": "stream",
     "text": [
      "/Users/giovanni/opt/anaconda3/envs/biomkr_397/lib/python3.9/site-packages/nilearn/maskers/nifti_spheres_masker.py:403: UserWarning: Persisting input arguments took 4.47s to run.\n",
      "If this happens often in your code, it can cause performance problems \n",
      "(results will be correct in all cases). \n",
      "The reason for this is probably some large input arguments for a wrapped\n",
      " function (e.g. large strings).\n",
      "THIS IS A JOBLIB ISSUE. If you can, kindly provide the joblib's team with an\n",
      " example so that they can fix the problem.\n",
      "  signals, _ = self._cache(\n"
     ]
    },
    {
     "name": "stdout",
     "output_type": "stream",
     "text": [
      "----- sub-032397 -----\n"
     ]
    },
    {
     "name": "stderr",
     "output_type": "stream",
     "text": [
      "/Users/giovanni/opt/anaconda3/envs/biomkr_397/lib/python3.9/site-packages/nilearn/maskers/nifti_spheres_masker.py:403: UserWarning: Persisting input arguments took 4.47s to run.\n",
      "If this happens often in your code, it can cause performance problems \n",
      "(results will be correct in all cases). \n",
      "The reason for this is probably some large input arguments for a wrapped\n",
      " function (e.g. large strings).\n",
      "THIS IS A JOBLIB ISSUE. If you can, kindly provide the joblib's team with an\n",
      " example so that they can fix the problem.\n",
      "  signals, _ = self._cache(\n"
     ]
    },
    {
     "name": "stdout",
     "output_type": "stream",
     "text": [
      "----- sub-032423 -----\n"
     ]
    },
    {
     "name": "stderr",
     "output_type": "stream",
     "text": [
      "/Users/giovanni/opt/anaconda3/envs/biomkr_397/lib/python3.9/site-packages/nilearn/maskers/nifti_spheres_masker.py:403: UserWarning: Persisting input arguments took 4.45s to run.\n",
      "If this happens often in your code, it can cause performance problems \n",
      "(results will be correct in all cases). \n",
      "The reason for this is probably some large input arguments for a wrapped\n",
      " function (e.g. large strings).\n",
      "THIS IS A JOBLIB ISSUE. If you can, kindly provide the joblib's team with an\n",
      " example so that they can fix the problem.\n",
      "  signals, _ = self._cache(\n"
     ]
    },
    {
     "name": "stdout",
     "output_type": "stream",
     "text": [
      "----- sub-032471 -----\n"
     ]
    },
    {
     "name": "stderr",
     "output_type": "stream",
     "text": [
      "/Users/giovanni/opt/anaconda3/envs/biomkr_397/lib/python3.9/site-packages/nilearn/maskers/nifti_spheres_masker.py:403: UserWarning: Persisting input arguments took 4.48s to run.\n",
      "If this happens often in your code, it can cause performance problems \n",
      "(results will be correct in all cases). \n",
      "The reason for this is probably some large input arguments for a wrapped\n",
      " function (e.g. large strings).\n",
      "THIS IS A JOBLIB ISSUE. If you can, kindly provide the joblib's team with an\n",
      " example so that they can fix the problem.\n",
      "  signals, _ = self._cache(\n"
     ]
    },
    {
     "name": "stdout",
     "output_type": "stream",
     "text": [
      "----- sub-032422 -----\n"
     ]
    },
    {
     "name": "stderr",
     "output_type": "stream",
     "text": [
      "/Users/giovanni/opt/anaconda3/envs/biomkr_397/lib/python3.9/site-packages/nilearn/maskers/nifti_spheres_masker.py:403: UserWarning: Persisting input arguments took 4.48s to run.\n",
      "If this happens often in your code, it can cause performance problems \n",
      "(results will be correct in all cases). \n",
      "The reason for this is probably some large input arguments for a wrapped\n",
      " function (e.g. large strings).\n",
      "THIS IS A JOBLIB ISSUE. If you can, kindly provide the joblib's team with an\n",
      " example so that they can fix the problem.\n",
      "  signals, _ = self._cache(\n"
     ]
    },
    {
     "name": "stdout",
     "output_type": "stream",
     "text": [
      "----- sub-032484 -----\n"
     ]
    },
    {
     "name": "stderr",
     "output_type": "stream",
     "text": [
      "/Users/giovanni/opt/anaconda3/envs/biomkr_397/lib/python3.9/site-packages/nilearn/maskers/nifti_spheres_masker.py:403: UserWarning: Persisting input arguments took 4.45s to run.\n",
      "If this happens often in your code, it can cause performance problems \n",
      "(results will be correct in all cases). \n",
      "The reason for this is probably some large input arguments for a wrapped\n",
      " function (e.g. large strings).\n",
      "THIS IS A JOBLIB ISSUE. If you can, kindly provide the joblib's team with an\n",
      " example so that they can fix the problem.\n",
      "  signals, _ = self._cache(\n"
     ]
    },
    {
     "name": "stdout",
     "output_type": "stream",
     "text": [
      "----- sub-032363 -----\n"
     ]
    },
    {
     "name": "stderr",
     "output_type": "stream",
     "text": [
      "/Users/giovanni/opt/anaconda3/envs/biomkr_397/lib/python3.9/site-packages/nilearn/maskers/nifti_spheres_masker.py:403: UserWarning: Persisting input arguments took 4.44s to run.\n",
      "If this happens often in your code, it can cause performance problems \n",
      "(results will be correct in all cases). \n",
      "The reason for this is probably some large input arguments for a wrapped\n",
      " function (e.g. large strings).\n",
      "THIS IS A JOBLIB ISSUE. If you can, kindly provide the joblib's team with an\n",
      " example so that they can fix the problem.\n",
      "  signals, _ = self._cache(\n"
     ]
    },
    {
     "name": "stdout",
     "output_type": "stream",
     "text": [
      "----- sub-032330 -----\n"
     ]
    },
    {
     "name": "stderr",
     "output_type": "stream",
     "text": [
      "/Users/giovanni/opt/anaconda3/envs/biomkr_397/lib/python3.9/site-packages/nilearn/maskers/nifti_spheres_masker.py:403: UserWarning: Persisting input arguments took 4.48s to run.\n",
      "If this happens often in your code, it can cause performance problems \n",
      "(results will be correct in all cases). \n",
      "The reason for this is probably some large input arguments for a wrapped\n",
      " function (e.g. large strings).\n",
      "THIS IS A JOBLIB ISSUE. If you can, kindly provide the joblib's team with an\n",
      " example so that they can fix the problem.\n",
      "  signals, _ = self._cache(\n"
     ]
    },
    {
     "name": "stdout",
     "output_type": "stream",
     "text": [
      "----- sub-032389 -----\n"
     ]
    },
    {
     "name": "stderr",
     "output_type": "stream",
     "text": [
      "/Users/giovanni/opt/anaconda3/envs/biomkr_397/lib/python3.9/site-packages/nilearn/maskers/nifti_spheres_masker.py:403: UserWarning: Persisting input arguments took 4.46s to run.\n",
      "If this happens often in your code, it can cause performance problems \n",
      "(results will be correct in all cases). \n",
      "The reason for this is probably some large input arguments for a wrapped\n",
      " function (e.g. large strings).\n",
      "THIS IS A JOBLIB ISSUE. If you can, kindly provide the joblib's team with an\n",
      " example so that they can fix the problem.\n",
      "  signals, _ = self._cache(\n"
     ]
    },
    {
     "name": "stdout",
     "output_type": "stream",
     "text": [
      "----- sub-032345 -----\n"
     ]
    },
    {
     "name": "stderr",
     "output_type": "stream",
     "text": [
      "/Users/giovanni/opt/anaconda3/envs/biomkr_397/lib/python3.9/site-packages/nilearn/maskers/nifti_spheres_masker.py:403: UserWarning: Persisting input arguments took 4.45s to run.\n",
      "If this happens often in your code, it can cause performance problems \n",
      "(results will be correct in all cases). \n",
      "The reason for this is probably some large input arguments for a wrapped\n",
      " function (e.g. large strings).\n",
      "THIS IS A JOBLIB ISSUE. If you can, kindly provide the joblib's team with an\n",
      " example so that they can fix the problem.\n",
      "  signals, _ = self._cache(\n"
     ]
    },
    {
     "name": "stdout",
     "output_type": "stream",
     "text": [
      "----- sub-032402 -----\n"
     ]
    },
    {
     "name": "stderr",
     "output_type": "stream",
     "text": [
      "/Users/giovanni/opt/anaconda3/envs/biomkr_397/lib/python3.9/site-packages/nilearn/maskers/nifti_spheres_masker.py:403: UserWarning: Persisting input arguments took 4.44s to run.\n",
      "If this happens often in your code, it can cause performance problems \n",
      "(results will be correct in all cases). \n",
      "The reason for this is probably some large input arguments for a wrapped\n",
      " function (e.g. large strings).\n",
      "THIS IS A JOBLIB ISSUE. If you can, kindly provide the joblib's team with an\n",
      " example so that they can fix the problem.\n",
      "  signals, _ = self._cache(\n"
     ]
    },
    {
     "name": "stdout",
     "output_type": "stream",
     "text": [
      "----- sub-032390 -----\n"
     ]
    },
    {
     "name": "stderr",
     "output_type": "stream",
     "text": [
      "/Users/giovanni/opt/anaconda3/envs/biomkr_397/lib/python3.9/site-packages/nilearn/maskers/nifti_spheres_masker.py:403: UserWarning: Persisting input arguments took 4.44s to run.\n",
      "If this happens often in your code, it can cause performance problems \n",
      "(results will be correct in all cases). \n",
      "The reason for this is probably some large input arguments for a wrapped\n",
      " function (e.g. large strings).\n",
      "THIS IS A JOBLIB ISSUE. If you can, kindly provide the joblib's team with an\n",
      " example so that they can fix the problem.\n",
      "  signals, _ = self._cache(\n"
     ]
    },
    {
     "name": "stdout",
     "output_type": "stream",
     "text": [
      "----- sub-032506 -----\n"
     ]
    },
    {
     "name": "stderr",
     "output_type": "stream",
     "text": [
      "/Users/giovanni/opt/anaconda3/envs/biomkr_397/lib/python3.9/site-packages/nilearn/maskers/nifti_spheres_masker.py:403: UserWarning: Persisting input arguments took 4.43s to run.\n",
      "If this happens often in your code, it can cause performance problems \n",
      "(results will be correct in all cases). \n",
      "The reason for this is probably some large input arguments for a wrapped\n",
      " function (e.g. large strings).\n",
      "THIS IS A JOBLIB ISSUE. If you can, kindly provide the joblib's team with an\n",
      " example so that they can fix the problem.\n",
      "  signals, _ = self._cache(\n"
     ]
    },
    {
     "name": "stdout",
     "output_type": "stream",
     "text": [
      "----- sub-032520 -----\n"
     ]
    },
    {
     "name": "stderr",
     "output_type": "stream",
     "text": [
      "/Users/giovanni/opt/anaconda3/envs/biomkr_397/lib/python3.9/site-packages/nilearn/maskers/nifti_spheres_masker.py:403: UserWarning: Persisting input arguments took 4.47s to run.\n",
      "If this happens often in your code, it can cause performance problems \n",
      "(results will be correct in all cases). \n",
      "The reason for this is probably some large input arguments for a wrapped\n",
      " function (e.g. large strings).\n",
      "THIS IS A JOBLIB ISSUE. If you can, kindly provide the joblib's team with an\n",
      " example so that they can fix the problem.\n",
      "  signals, _ = self._cache(\n"
     ]
    },
    {
     "name": "stdout",
     "output_type": "stream",
     "text": [
      "----- sub-032424 -----\n"
     ]
    },
    {
     "name": "stderr",
     "output_type": "stream",
     "text": [
      "/Users/giovanni/opt/anaconda3/envs/biomkr_397/lib/python3.9/site-packages/nilearn/maskers/nifti_spheres_masker.py:403: UserWarning: Persisting input arguments took 4.47s to run.\n",
      "If this happens often in your code, it can cause performance problems \n",
      "(results will be correct in all cases). \n",
      "The reason for this is probably some large input arguments for a wrapped\n",
      " function (e.g. large strings).\n",
      "THIS IS A JOBLIB ISSUE. If you can, kindly provide the joblib's team with an\n",
      " example so that they can fix the problem.\n",
      "  signals, _ = self._cache(\n"
     ]
    },
    {
     "name": "stdout",
     "output_type": "stream",
     "text": [
      "----- sub-032451 -----\n"
     ]
    },
    {
     "name": "stderr",
     "output_type": "stream",
     "text": [
      "/Users/giovanni/opt/anaconda3/envs/biomkr_397/lib/python3.9/site-packages/nilearn/maskers/nifti_spheres_masker.py:403: UserWarning: Persisting input arguments took 4.44s to run.\n",
      "If this happens often in your code, it can cause performance problems \n",
      "(results will be correct in all cases). \n",
      "The reason for this is probably some large input arguments for a wrapped\n",
      " function (e.g. large strings).\n",
      "THIS IS A JOBLIB ISSUE. If you can, kindly provide the joblib's team with an\n",
      " example so that they can fix the problem.\n",
      "  signals, _ = self._cache(\n"
     ]
    },
    {
     "name": "stdout",
     "output_type": "stream",
     "text": [
      "----- sub-032365 -----\n"
     ]
    },
    {
     "name": "stderr",
     "output_type": "stream",
     "text": [
      "/Users/giovanni/opt/anaconda3/envs/biomkr_397/lib/python3.9/site-packages/nilearn/maskers/nifti_spheres_masker.py:403: UserWarning: Persisting input arguments took 4.45s to run.\n",
      "If this happens often in your code, it can cause performance problems \n",
      "(results will be correct in all cases). \n",
      "The reason for this is probably some large input arguments for a wrapped\n",
      " function (e.g. large strings).\n",
      "THIS IS A JOBLIB ISSUE. If you can, kindly provide the joblib's team with an\n",
      " example so that they can fix the problem.\n",
      "  signals, _ = self._cache(\n"
     ]
    },
    {
     "name": "stdout",
     "output_type": "stream",
     "text": [
      "----- sub-032482 -----\n"
     ]
    },
    {
     "name": "stderr",
     "output_type": "stream",
     "text": [
      "/Users/giovanni/opt/anaconda3/envs/biomkr_397/lib/python3.9/site-packages/nilearn/maskers/nifti_spheres_masker.py:403: UserWarning: Persisting input arguments took 4.44s to run.\n",
      "If this happens often in your code, it can cause performance problems \n",
      "(results will be correct in all cases). \n",
      "The reason for this is probably some large input arguments for a wrapped\n",
      " function (e.g. large strings).\n",
      "THIS IS A JOBLIB ISSUE. If you can, kindly provide the joblib's team with an\n",
      " example so that they can fix the problem.\n",
      "  signals, _ = self._cache(\n"
     ]
    },
    {
     "name": "stdout",
     "output_type": "stream",
     "text": [
      "----- sub-032468 -----\n"
     ]
    },
    {
     "name": "stderr",
     "output_type": "stream",
     "text": [
      "/Users/giovanni/opt/anaconda3/envs/biomkr_397/lib/python3.9/site-packages/nilearn/maskers/nifti_spheres_masker.py:403: UserWarning: Persisting input arguments took 4.44s to run.\n",
      "If this happens often in your code, it can cause performance problems \n",
      "(results will be correct in all cases). \n",
      "The reason for this is probably some large input arguments for a wrapped\n",
      " function (e.g. large strings).\n",
      "THIS IS A JOBLIB ISSUE. If you can, kindly provide the joblib's team with an\n",
      " example so that they can fix the problem.\n",
      "  signals, _ = self._cache(\n"
     ]
    },
    {
     "name": "stdout",
     "output_type": "stream",
     "text": [
      "----- sub-032364 -----\n"
     ]
    },
    {
     "name": "stderr",
     "output_type": "stream",
     "text": [
      "/Users/giovanni/opt/anaconda3/envs/biomkr_397/lib/python3.9/site-packages/nilearn/maskers/nifti_spheres_masker.py:403: UserWarning: Persisting input arguments took 4.44s to run.\n",
      "If this happens often in your code, it can cause performance problems \n",
      "(results will be correct in all cases). \n",
      "The reason for this is probably some large input arguments for a wrapped\n",
      " function (e.g. large strings).\n",
      "THIS IS A JOBLIB ISSUE. If you can, kindly provide the joblib's team with an\n",
      " example so that they can fix the problem.\n",
      "  signals, _ = self._cache(\n"
     ]
    },
    {
     "name": "stdout",
     "output_type": "stream",
     "text": [
      "----- sub-032483 -----\n"
     ]
    },
    {
     "name": "stderr",
     "output_type": "stream",
     "text": [
      "/Users/giovanni/opt/anaconda3/envs/biomkr_397/lib/python3.9/site-packages/nilearn/maskers/nifti_spheres_masker.py:403: UserWarning: Persisting input arguments took 4.46s to run.\n",
      "If this happens often in your code, it can cause performance problems \n",
      "(results will be correct in all cases). \n",
      "The reason for this is probably some large input arguments for a wrapped\n",
      " function (e.g. large strings).\n",
      "THIS IS A JOBLIB ISSUE. If you can, kindly provide the joblib's team with an\n",
      " example so that they can fix the problem.\n",
      "  signals, _ = self._cache(\n"
     ]
    },
    {
     "name": "stdout",
     "output_type": "stream",
     "text": [
      "----- sub-032342 -----\n"
     ]
    },
    {
     "name": "stderr",
     "output_type": "stream",
     "text": [
      "/Users/giovanni/opt/anaconda3/envs/biomkr_397/lib/python3.9/site-packages/nilearn/maskers/nifti_spheres_masker.py:403: UserWarning: Persisting input arguments took 4.49s to run.\n",
      "If this happens often in your code, it can cause performance problems \n",
      "(results will be correct in all cases). \n",
      "The reason for this is probably some large input arguments for a wrapped\n",
      " function (e.g. large strings).\n",
      "THIS IS A JOBLIB ISSUE. If you can, kindly provide the joblib's team with an\n",
      " example so that they can fix the problem.\n",
      "  signals, _ = self._cache(\n"
     ]
    },
    {
     "name": "stdout",
     "output_type": "stream",
     "text": [
      "----- sub-032469 -----\n"
     ]
    },
    {
     "name": "stderr",
     "output_type": "stream",
     "text": [
      "/Users/giovanni/opt/anaconda3/envs/biomkr_397/lib/python3.9/site-packages/nilearn/maskers/nifti_spheres_masker.py:403: UserWarning: Persisting input arguments took 4.46s to run.\n",
      "If this happens often in your code, it can cause performance problems \n",
      "(results will be correct in all cases). \n",
      "The reason for this is probably some large input arguments for a wrapped\n",
      " function (e.g. large strings).\n",
      "THIS IS A JOBLIB ISSUE. If you can, kindly provide the joblib's team with an\n",
      " example so that they can fix the problem.\n",
      "  signals, _ = self._cache(\n"
     ]
    },
    {
     "name": "stdout",
     "output_type": "stream",
     "text": [
      "----- sub-032391 -----\n"
     ]
    },
    {
     "name": "stderr",
     "output_type": "stream",
     "text": [
      "/Users/giovanni/opt/anaconda3/envs/biomkr_397/lib/python3.9/site-packages/nilearn/maskers/nifti_spheres_masker.py:403: UserWarning: Persisting input arguments took 4.46s to run.\n",
      "If this happens often in your code, it can cause performance problems \n",
      "(results will be correct in all cases). \n",
      "The reason for this is probably some large input arguments for a wrapped\n",
      " function (e.g. large strings).\n",
      "THIS IS A JOBLIB ISSUE. If you can, kindly provide the joblib's team with an\n",
      " example so that they can fix the problem.\n",
      "  signals, _ = self._cache(\n"
     ]
    },
    {
     "name": "stdout",
     "output_type": "stream",
     "text": [
      "----- sub-032403 -----\n"
     ]
    },
    {
     "name": "stderr",
     "output_type": "stream",
     "text": [
      "/Users/giovanni/opt/anaconda3/envs/biomkr_397/lib/python3.9/site-packages/nilearn/maskers/nifti_spheres_masker.py:403: UserWarning: Persisting input arguments took 4.46s to run.\n",
      "If this happens often in your code, it can cause performance problems \n",
      "(results will be correct in all cases). \n",
      "The reason for this is probably some large input arguments for a wrapped\n",
      " function (e.g. large strings).\n",
      "THIS IS A JOBLIB ISSUE. If you can, kindly provide the joblib's team with an\n",
      " example so that they can fix the problem.\n",
      "  signals, _ = self._cache(\n"
     ]
    },
    {
     "name": "stdout",
     "output_type": "stream",
     "text": [
      "----- sub-032507 -----\n"
     ]
    },
    {
     "name": "stderr",
     "output_type": "stream",
     "text": [
      "/Users/giovanni/opt/anaconda3/envs/biomkr_397/lib/python3.9/site-packages/nilearn/maskers/nifti_spheres_masker.py:403: UserWarning: Persisting input arguments took 4.46s to run.\n",
      "If this happens often in your code, it can cause performance problems \n",
      "(results will be correct in all cases). \n",
      "The reason for this is probably some large input arguments for a wrapped\n",
      " function (e.g. large strings).\n",
      "THIS IS A JOBLIB ISSUE. If you can, kindly provide the joblib's team with an\n",
      " example so that they can fix the problem.\n",
      "  signals, _ = self._cache(\n"
     ]
    },
    {
     "name": "stdout",
     "output_type": "stream",
     "text": [
      "----- sub-032476 -----\n"
     ]
    },
    {
     "name": "stderr",
     "output_type": "stream",
     "text": [
      "/Users/giovanni/opt/anaconda3/envs/biomkr_397/lib/python3.9/site-packages/nilearn/maskers/nifti_spheres_masker.py:403: UserWarning: Persisting input arguments took 4.76s to run.\n",
      "If this happens often in your code, it can cause performance problems \n",
      "(results will be correct in all cases). \n",
      "The reason for this is probably some large input arguments for a wrapped\n",
      " function (e.g. large strings).\n",
      "THIS IS A JOBLIB ISSUE. If you can, kindly provide the joblib's team with an\n",
      " example so that they can fix the problem.\n",
      "  signals, _ = self._cache(\n"
     ]
    },
    {
     "name": "stdout",
     "output_type": "stream",
     "text": [
      "----- sub-032328 -----\n"
     ]
    },
    {
     "name": "stderr",
     "output_type": "stream",
     "text": [
      "/Users/giovanni/opt/anaconda3/envs/biomkr_397/lib/python3.9/site-packages/nilearn/maskers/nifti_spheres_masker.py:403: UserWarning: Persisting input arguments took 4.45s to run.\n",
      "If this happens often in your code, it can cause performance problems \n",
      "(results will be correct in all cases). \n",
      "The reason for this is probably some large input arguments for a wrapped\n",
      " function (e.g. large strings).\n",
      "THIS IS A JOBLIB ISSUE. If you can, kindly provide the joblib's team with an\n",
      " example so that they can fix the problem.\n",
      "  signals, _ = self._cache(\n"
     ]
    },
    {
     "name": "stdout",
     "output_type": "stream",
     "text": [
      "----- sub-032521 -----\n"
     ]
    },
    {
     "name": "stderr",
     "output_type": "stream",
     "text": [
      "/Users/giovanni/opt/anaconda3/envs/biomkr_397/lib/python3.9/site-packages/nilearn/maskers/nifti_spheres_masker.py:403: UserWarning: Persisting input arguments took 4.47s to run.\n",
      "If this happens often in your code, it can cause performance problems \n",
      "(results will be correct in all cases). \n",
      "The reason for this is probably some large input arguments for a wrapped\n",
      " function (e.g. large strings).\n",
      "THIS IS A JOBLIB ISSUE. If you can, kindly provide the joblib's team with an\n",
      " example so that they can fix the problem.\n",
      "  signals, _ = self._cache(\n"
     ]
    },
    {
     "name": "stdout",
     "output_type": "stream",
     "text": [
      "----- sub-032425 -----\n"
     ]
    },
    {
     "name": "stderr",
     "output_type": "stream",
     "text": [
      "/Users/giovanni/opt/anaconda3/envs/biomkr_397/lib/python3.9/site-packages/nilearn/maskers/nifti_spheres_masker.py:403: UserWarning: Persisting input arguments took 4.45s to run.\n",
      "If this happens often in your code, it can cause performance problems \n",
      "(results will be correct in all cases). \n",
      "The reason for this is probably some large input arguments for a wrapped\n",
      " function (e.g. large strings).\n",
      "THIS IS A JOBLIB ISSUE. If you can, kindly provide the joblib's team with an\n",
      " example so that they can fix the problem.\n",
      "  signals, _ = self._cache(\n"
     ]
    },
    {
     "name": "stdout",
     "output_type": "stream",
     "text": [
      "----- sub-032495 -----\n"
     ]
    },
    {
     "name": "stderr",
     "output_type": "stream",
     "text": [
      "/Users/giovanni/opt/anaconda3/envs/biomkr_397/lib/python3.9/site-packages/nilearn/maskers/nifti_spheres_masker.py:403: UserWarning: Persisting input arguments took 4.44s to run.\n",
      "If this happens often in your code, it can cause performance problems \n",
      "(results will be correct in all cases). \n",
      "The reason for this is probably some large input arguments for a wrapped\n",
      " function (e.g. large strings).\n",
      "THIS IS A JOBLIB ISSUE. If you can, kindly provide the joblib's team with an\n",
      " example so that they can fix the problem.\n",
      "  signals, _ = self._cache(\n"
     ]
    },
    {
     "name": "stdout",
     "output_type": "stream",
     "text": [
      "----- sub-032354 -----\n"
     ]
    },
    {
     "name": "stderr",
     "output_type": "stream",
     "text": [
      "/Users/giovanni/opt/anaconda3/envs/biomkr_397/lib/python3.9/site-packages/nilearn/maskers/nifti_spheres_masker.py:403: UserWarning: Persisting input arguments took 4.55s to run.\n",
      "If this happens often in your code, it can cause performance problems \n",
      "(results will be correct in all cases). \n",
      "The reason for this is probably some large input arguments for a wrapped\n",
      " function (e.g. large strings).\n",
      "THIS IS A JOBLIB ISSUE. If you can, kindly provide the joblib's team with an\n",
      " example so that they can fix the problem.\n",
      "  signals, _ = self._cache(\n"
     ]
    },
    {
     "name": "stdout",
     "output_type": "stream",
     "text": [
      "----- sub-032387 -----\n"
     ]
    },
    {
     "name": "stderr",
     "output_type": "stream",
     "text": [
      "/Users/giovanni/opt/anaconda3/envs/biomkr_397/lib/python3.9/site-packages/nilearn/maskers/nifti_spheres_masker.py:403: UserWarning: Persisting input arguments took 4.44s to run.\n",
      "If this happens often in your code, it can cause performance problems \n",
      "(results will be correct in all cases). \n",
      "The reason for this is probably some large input arguments for a wrapped\n",
      " function (e.g. large strings).\n",
      "THIS IS A JOBLIB ISSUE. If you can, kindly provide the joblib's team with an\n",
      " example so that they can fix the problem.\n",
      "  signals, _ = self._cache(\n"
     ]
    },
    {
     "name": "stdout",
     "output_type": "stream",
     "text": [
      "----- sub-032511 -----\n"
     ]
    },
    {
     "name": "stderr",
     "output_type": "stream",
     "text": [
      "/Users/giovanni/opt/anaconda3/envs/biomkr_397/lib/python3.9/site-packages/nilearn/maskers/nifti_spheres_masker.py:403: UserWarning: Persisting input arguments took 4.50s to run.\n",
      "If this happens often in your code, it can cause performance problems \n",
      "(results will be correct in all cases). \n",
      "The reason for this is probably some large input arguments for a wrapped\n",
      " function (e.g. large strings).\n",
      "THIS IS A JOBLIB ISSUE. If you can, kindly provide the joblib's team with an\n",
      " example so that they can fix the problem.\n",
      "  signals, _ = self._cache(\n"
     ]
    },
    {
     "name": "stdout",
     "output_type": "stream",
     "text": [
      "----- sub-032433 -----\n"
     ]
    },
    {
     "name": "stderr",
     "output_type": "stream",
     "text": [
      "/Users/giovanni/opt/anaconda3/envs/biomkr_397/lib/python3.9/site-packages/nilearn/maskers/nifti_spheres_masker.py:403: UserWarning: Persisting input arguments took 4.44s to run.\n",
      "If this happens often in your code, it can cause performance problems \n",
      "(results will be correct in all cases). \n",
      "The reason for this is probably some large input arguments for a wrapped\n",
      " function (e.g. large strings).\n",
      "THIS IS A JOBLIB ISSUE. If you can, kindly provide the joblib's team with an\n",
      " example so that they can fix the problem.\n",
      "  signals, _ = self._cache(\n"
     ]
    },
    {
     "name": "stdout",
     "output_type": "stream",
     "text": [
      "----- sub-032446 -----\n"
     ]
    },
    {
     "name": "stderr",
     "output_type": "stream",
     "text": [
      "/Users/giovanni/opt/anaconda3/envs/biomkr_397/lib/python3.9/site-packages/nilearn/maskers/nifti_spheres_masker.py:403: UserWarning: Persisting input arguments took 4.45s to run.\n",
      "If this happens often in your code, it can cause performance problems \n",
      "(results will be correct in all cases). \n",
      "The reason for this is probably some large input arguments for a wrapped\n",
      " function (e.g. large strings).\n",
      "THIS IS A JOBLIB ISSUE. If you can, kindly provide the joblib's team with an\n",
      " example so that they can fix the problem.\n",
      "  signals, _ = self._cache(\n"
     ]
    },
    {
     "name": "stdout",
     "output_type": "stream",
     "text": [
      "----- sub-032510 -----\n"
     ]
    },
    {
     "name": "stderr",
     "output_type": "stream",
     "text": [
      "/Users/giovanni/opt/anaconda3/envs/biomkr_397/lib/python3.9/site-packages/nilearn/maskers/nifti_spheres_masker.py:403: UserWarning: Persisting input arguments took 4.43s to run.\n",
      "If this happens often in your code, it can cause performance problems \n",
      "(results will be correct in all cases). \n",
      "The reason for this is probably some large input arguments for a wrapped\n",
      " function (e.g. large strings).\n",
      "THIS IS A JOBLIB ISSUE. If you can, kindly provide the joblib's team with an\n",
      " example so that they can fix the problem.\n",
      "  signals, _ = self._cache(\n"
     ]
    },
    {
     "name": "stdout",
     "output_type": "stream",
     "text": [
      "----- sub-032432 -----\n"
     ]
    },
    {
     "name": "stderr",
     "output_type": "stream",
     "text": [
      "/Users/giovanni/opt/anaconda3/envs/biomkr_397/lib/python3.9/site-packages/nilearn/maskers/nifti_spheres_masker.py:403: UserWarning: Persisting input arguments took 4.46s to run.\n",
      "If this happens often in your code, it can cause performance problems \n",
      "(results will be correct in all cases). \n",
      "The reason for this is probably some large input arguments for a wrapped\n",
      " function (e.g. large strings).\n",
      "THIS IS A JOBLIB ISSUE. If you can, kindly provide the joblib's team with an\n",
      " example so that they can fix the problem.\n",
      "  signals, _ = self._cache(\n"
     ]
    },
    {
     "name": "stdout",
     "output_type": "stream",
     "text": [
      "----- sub-032494 -----\n"
     ]
    },
    {
     "name": "stderr",
     "output_type": "stream",
     "text": [
      "/Users/giovanni/opt/anaconda3/envs/biomkr_397/lib/python3.9/site-packages/nilearn/maskers/nifti_spheres_masker.py:403: UserWarning: Persisting input arguments took 4.46s to run.\n",
      "If this happens often in your code, it can cause performance problems \n",
      "(results will be correct in all cases). \n",
      "The reason for this is probably some large input arguments for a wrapped\n",
      " function (e.g. large strings).\n",
      "THIS IS A JOBLIB ISSUE. If you can, kindly provide the joblib's team with an\n",
      " example so that they can fix the problem.\n",
      "  signals, _ = self._cache(\n"
     ]
    },
    {
     "name": "stdout",
     "output_type": "stream",
     "text": [
      "----- sub-032516 -----\n"
     ]
    },
    {
     "name": "stderr",
     "output_type": "stream",
     "text": [
      "/Users/giovanni/opt/anaconda3/envs/biomkr_397/lib/python3.9/site-packages/nilearn/maskers/nifti_spheres_masker.py:403: UserWarning: Persisting input arguments took 4.43s to run.\n",
      "If this happens often in your code, it can cause performance problems \n",
      "(results will be correct in all cases). \n",
      "The reason for this is probably some large input arguments for a wrapped\n",
      " function (e.g. large strings).\n",
      "THIS IS A JOBLIB ISSUE. If you can, kindly provide the joblib's team with an\n",
      " example so that they can fix the problem.\n",
      "  signals, _ = self._cache(\n"
     ]
    },
    {
     "name": "stdout",
     "output_type": "stream",
     "text": [
      "----- sub-032412 -----\n"
     ]
    },
    {
     "name": "stderr",
     "output_type": "stream",
     "text": [
      "/Users/giovanni/opt/anaconda3/envs/biomkr_397/lib/python3.9/site-packages/nilearn/maskers/nifti_spheres_masker.py:403: UserWarning: Persisting input arguments took 4.45s to run.\n",
      "If this happens often in your code, it can cause performance problems \n",
      "(results will be correct in all cases). \n",
      "The reason for this is probably some large input arguments for a wrapped\n",
      " function (e.g. large strings).\n",
      "THIS IS A JOBLIB ISSUE. If you can, kindly provide the joblib's team with an\n",
      " example so that they can fix the problem.\n",
      "  signals, _ = self._cache(\n"
     ]
    },
    {
     "name": "stdout",
     "output_type": "stream",
     "text": [
      "----- sub-032380 -----\n"
     ]
    },
    {
     "name": "stderr",
     "output_type": "stream",
     "text": [
      "/Users/giovanni/opt/anaconda3/envs/biomkr_397/lib/python3.9/site-packages/nilearn/maskers/nifti_spheres_masker.py:403: UserWarning: Persisting input arguments took 4.46s to run.\n",
      "If this happens often in your code, it can cause performance problems \n",
      "(results will be correct in all cases). \n",
      "The reason for this is probably some large input arguments for a wrapped\n",
      " function (e.g. large strings).\n",
      "THIS IS A JOBLIB ISSUE. If you can, kindly provide the joblib's team with an\n",
      " example so that they can fix the problem.\n",
      "  signals, _ = self._cache(\n"
     ]
    },
    {
     "name": "stdout",
     "output_type": "stream",
     "text": [
      "----- sub-032434 -----\n"
     ]
    },
    {
     "name": "stderr",
     "output_type": "stream",
     "text": [
      "/Users/giovanni/opt/anaconda3/envs/biomkr_397/lib/python3.9/site-packages/nilearn/maskers/nifti_spheres_masker.py:403: UserWarning: Persisting input arguments took 4.46s to run.\n",
      "If this happens often in your code, it can cause performance problems \n",
      "(results will be correct in all cases). \n",
      "The reason for this is probably some large input arguments for a wrapped\n",
      " function (e.g. large strings).\n",
      "THIS IS A JOBLIB ISSUE. If you can, kindly provide the joblib's team with an\n",
      " example so that they can fix the problem.\n",
      "  signals, _ = self._cache(\n"
     ]
    },
    {
     "name": "stdout",
     "output_type": "stream",
     "text": [
      "----- sub-032492 -----\n"
     ]
    },
    {
     "name": "stderr",
     "output_type": "stream",
     "text": [
      "/Users/giovanni/opt/anaconda3/envs/biomkr_397/lib/python3.9/site-packages/nilearn/maskers/nifti_spheres_masker.py:403: UserWarning: Persisting input arguments took 4.44s to run.\n",
      "If this happens often in your code, it can cause performance problems \n",
      "(results will be correct in all cases). \n",
      "The reason for this is probably some large input arguments for a wrapped\n",
      " function (e.g. large strings).\n",
      "THIS IS A JOBLIB ISSUE. If you can, kindly provide the joblib's team with an\n",
      " example so that they can fix the problem.\n",
      "  signals, _ = self._cache(\n"
     ]
    },
    {
     "name": "stdout",
     "output_type": "stream",
     "text": [
      "----- sub-032375 -----\n"
     ]
    },
    {
     "name": "stderr",
     "output_type": "stream",
     "text": [
      "/Users/giovanni/opt/anaconda3/envs/biomkr_397/lib/python3.9/site-packages/nilearn/maskers/nifti_spheres_masker.py:403: UserWarning: Persisting input arguments took 4.47s to run.\n",
      "If this happens often in your code, it can cause performance problems \n",
      "(results will be correct in all cases). \n",
      "The reason for this is probably some large input arguments for a wrapped\n",
      " function (e.g. large strings).\n",
      "THIS IS A JOBLIB ISSUE. If you can, kindly provide the joblib's team with an\n",
      " example so that they can fix the problem.\n",
      "  signals, _ = self._cache(\n"
     ]
    },
    {
     "name": "stdout",
     "output_type": "stream",
     "text": [
      "----- sub-032478 -----\n"
     ]
    },
    {
     "name": "stderr",
     "output_type": "stream",
     "text": [
      "/Users/giovanni/opt/anaconda3/envs/biomkr_397/lib/python3.9/site-packages/nilearn/maskers/nifti_spheres_masker.py:403: UserWarning: Persisting input arguments took 4.47s to run.\n",
      "If this happens often in your code, it can cause performance problems \n",
      "(results will be correct in all cases). \n",
      "The reason for this is probably some large input arguments for a wrapped\n",
      " function (e.g. large strings).\n",
      "THIS IS A JOBLIB ISSUE. If you can, kindly provide the joblib's team with an\n",
      " example so that they can fix the problem.\n",
      "  signals, _ = self._cache(\n"
     ]
    },
    {
     "name": "stdout",
     "output_type": "stream",
     "text": [
      "----- sub-032353 -----\n"
     ]
    },
    {
     "name": "stderr",
     "output_type": "stream",
     "text": [
      "/Users/giovanni/opt/anaconda3/envs/biomkr_397/lib/python3.9/site-packages/nilearn/maskers/nifti_spheres_masker.py:403: UserWarning: Persisting input arguments took 4.46s to run.\n",
      "If this happens often in your code, it can cause performance problems \n",
      "(results will be correct in all cases). \n",
      "The reason for this is probably some large input arguments for a wrapped\n",
      " function (e.g. large strings).\n",
      "THIS IS A JOBLIB ISSUE. If you can, kindly provide the joblib's team with an\n",
      " example so that they can fix the problem.\n",
      "  signals, _ = self._cache(\n"
     ]
    },
    {
     "name": "stdout",
     "output_type": "stream",
     "text": [
      "----- sub-032479 -----\n"
     ]
    },
    {
     "name": "stderr",
     "output_type": "stream",
     "text": [
      "/Users/giovanni/opt/anaconda3/envs/biomkr_397/lib/python3.9/site-packages/nilearn/maskers/nifti_spheres_masker.py:403: UserWarning: Persisting input arguments took 4.47s to run.\n",
      "If this happens often in your code, it can cause performance problems \n",
      "(results will be correct in all cases). \n",
      "The reason for this is probably some large input arguments for a wrapped\n",
      " function (e.g. large strings).\n",
      "THIS IS A JOBLIB ISSUE. If you can, kindly provide the joblib's team with an\n",
      " example so that they can fix the problem.\n",
      "  signals, _ = self._cache(\n"
     ]
    },
    {
     "name": "stdout",
     "output_type": "stream",
     "text": [
      "----- sub-032508 -----\n"
     ]
    },
    {
     "name": "stderr",
     "output_type": "stream",
     "text": [
      "/Users/giovanni/opt/anaconda3/envs/biomkr_397/lib/python3.9/site-packages/nilearn/maskers/nifti_spheres_masker.py:403: UserWarning: Persisting input arguments took 4.47s to run.\n",
      "If this happens often in your code, it can cause performance problems \n",
      "(results will be correct in all cases). \n",
      "The reason for this is probably some large input arguments for a wrapped\n",
      " function (e.g. large strings).\n",
      "THIS IS A JOBLIB ISSUE. If you can, kindly provide the joblib's team with an\n",
      " example so that they can fix the problem.\n",
      "  signals, _ = self._cache(\n"
     ]
    },
    {
     "name": "stdout",
     "output_type": "stream",
     "text": [
      "----- sub-032517 -----\n"
     ]
    },
    {
     "name": "stderr",
     "output_type": "stream",
     "text": [
      "/Users/giovanni/opt/anaconda3/envs/biomkr_397/lib/python3.9/site-packages/nilearn/maskers/nifti_spheres_masker.py:403: UserWarning: Persisting input arguments took 4.45s to run.\n",
      "If this happens often in your code, it can cause performance problems \n",
      "(results will be correct in all cases). \n",
      "The reason for this is probably some large input arguments for a wrapped\n",
      " function (e.g. large strings).\n",
      "THIS IS A JOBLIB ISSUE. If you can, kindly provide the joblib's team with an\n",
      " example so that they can fix the problem.\n",
      "  signals, _ = self._cache(\n"
     ]
    },
    {
     "name": "stdout",
     "output_type": "stream",
     "text": [
      "----- sub-032381 -----\n"
     ]
    },
    {
     "name": "stderr",
     "output_type": "stream",
     "text": [
      "/Users/giovanni/opt/anaconda3/envs/biomkr_397/lib/python3.9/site-packages/nilearn/maskers/nifti_spheres_masker.py:403: UserWarning: Persisting input arguments took 4.45s to run.\n",
      "If this happens often in your code, it can cause performance problems \n",
      "(results will be correct in all cases). \n",
      "The reason for this is probably some large input arguments for a wrapped\n",
      " function (e.g. large strings).\n",
      "THIS IS A JOBLIB ISSUE. If you can, kindly provide the joblib's team with an\n",
      " example so that they can fix the problem.\n",
      "  signals, _ = self._cache(\n"
     ]
    },
    {
     "name": "stdout",
     "output_type": "stream",
     "text": [
      "----- sub-032413 -----\n"
     ]
    },
    {
     "name": "stderr",
     "output_type": "stream",
     "text": [
      "/Users/giovanni/opt/anaconda3/envs/biomkr_397/lib/python3.9/site-packages/nilearn/maskers/nifti_spheres_masker.py:403: UserWarning: Persisting input arguments took 4.44s to run.\n",
      "If this happens often in your code, it can cause performance problems \n",
      "(results will be correct in all cases). \n",
      "The reason for this is probably some large input arguments for a wrapped\n",
      " function (e.g. large strings).\n",
      "THIS IS A JOBLIB ISSUE. If you can, kindly provide the joblib's team with an\n",
      " example so that they can fix the problem.\n",
      "  signals, _ = self._cache(\n"
     ]
    },
    {
     "name": "stdout",
     "output_type": "stream",
     "text": [
      "----- sub-032440 -----\n"
     ]
    },
    {
     "name": "stderr",
     "output_type": "stream",
     "text": [
      "/Users/giovanni/opt/anaconda3/envs/biomkr_397/lib/python3.9/site-packages/nilearn/maskers/nifti_spheres_masker.py:403: UserWarning: Persisting input arguments took 4.45s to run.\n",
      "If this happens often in your code, it can cause performance problems \n",
      "(results will be correct in all cases). \n",
      "The reason for this is probably some large input arguments for a wrapped\n",
      " function (e.g. large strings).\n",
      "THIS IS A JOBLIB ISSUE. If you can, kindly provide the joblib's team with an\n",
      " example so that they can fix the problem.\n",
      "  signals, _ = self._cache(\n"
     ]
    },
    {
     "name": "stdout",
     "output_type": "stream",
     "text": [
      "----- sub-032487 -----\n"
     ]
    },
    {
     "name": "stderr",
     "output_type": "stream",
     "text": [
      "/Users/giovanni/opt/anaconda3/envs/biomkr_397/lib/python3.9/site-packages/nilearn/maskers/nifti_spheres_masker.py:403: UserWarning: Persisting input arguments took 4.44s to run.\n",
      "If this happens often in your code, it can cause performance problems \n",
      "(results will be correct in all cases). \n",
      "The reason for this is probably some large input arguments for a wrapped\n",
      " function (e.g. large strings).\n",
      "THIS IS A JOBLIB ISSUE. If you can, kindly provide the joblib's team with an\n",
      " example so that they can fix the problem.\n",
      "  signals, _ = self._cache(\n"
     ]
    },
    {
     "name": "stdout",
     "output_type": "stream",
     "text": [
      "----- sub-032360 -----\n"
     ]
    },
    {
     "name": "stderr",
     "output_type": "stream",
     "text": [
      "/Users/giovanni/opt/anaconda3/envs/biomkr_397/lib/python3.9/site-packages/nilearn/maskers/nifti_spheres_masker.py:403: UserWarning: Persisting input arguments took 4.44s to run.\n",
      "If this happens often in your code, it can cause performance problems \n",
      "(results will be correct in all cases). \n",
      "The reason for this is probably some large input arguments for a wrapped\n",
      " function (e.g. large strings).\n",
      "THIS IS A JOBLIB ISSUE. If you can, kindly provide the joblib's team with an\n",
      " example so that they can fix the problem.\n",
      "  signals, _ = self._cache(\n"
     ]
    },
    {
     "name": "stdout",
     "output_type": "stream",
     "text": [
      "----- sub-032472 -----\n"
     ]
    },
    {
     "name": "stderr",
     "output_type": "stream",
     "text": [
      "/Users/giovanni/opt/anaconda3/envs/biomkr_397/lib/python3.9/site-packages/nilearn/maskers/nifti_spheres_masker.py:403: UserWarning: Persisting input arguments took 4.49s to run.\n",
      "If this happens often in your code, it can cause performance problems \n",
      "(results will be correct in all cases). \n",
      "The reason for this is probably some large input arguments for a wrapped\n",
      " function (e.g. large strings).\n",
      "THIS IS A JOBLIB ISSUE. If you can, kindly provide the joblib's team with an\n",
      " example so that they can fix the problem.\n",
      "  signals, _ = self._cache(\n"
     ]
    },
    {
     "name": "stdout",
     "output_type": "stream",
     "text": [
      "----- sub-032359 -----\n"
     ]
    },
    {
     "name": "stderr",
     "output_type": "stream",
     "text": [
      "/Users/giovanni/opt/anaconda3/envs/biomkr_397/lib/python3.9/site-packages/nilearn/maskers/nifti_spheres_masker.py:403: UserWarning: Persisting input arguments took 4.46s to run.\n",
      "If this happens often in your code, it can cause performance problems \n",
      "(results will be correct in all cases). \n",
      "The reason for this is probably some large input arguments for a wrapped\n",
      " function (e.g. large strings).\n",
      "THIS IS A JOBLIB ISSUE. If you can, kindly provide the joblib's team with an\n",
      " example so that they can fix the problem.\n",
      "  signals, _ = self._cache(\n"
     ]
    },
    {
     "name": "stdout",
     "output_type": "stream",
     "text": [
      "----- sub-032503 -----\n"
     ]
    },
    {
     "name": "stderr",
     "output_type": "stream",
     "text": [
      "/Users/giovanni/opt/anaconda3/envs/biomkr_397/lib/python3.9/site-packages/nilearn/maskers/nifti_spheres_masker.py:403: UserWarning: Persisting input arguments took 4.46s to run.\n",
      "If this happens often in your code, it can cause performance problems \n",
      "(results will be correct in all cases). \n",
      "The reason for this is probably some large input arguments for a wrapped\n",
      " function (e.g. large strings).\n",
      "THIS IS A JOBLIB ISSUE. If you can, kindly provide the joblib's team with an\n",
      " example so that they can fix the problem.\n",
      "  signals, _ = self._cache(\n"
     ]
    },
    {
     "name": "stdout",
     "output_type": "stream",
     "text": [
      "----- sub-032421 -----\n"
     ]
    },
    {
     "name": "stderr",
     "output_type": "stream",
     "text": [
      "/Users/giovanni/opt/anaconda3/envs/biomkr_397/lib/python3.9/site-packages/nilearn/maskers/nifti_spheres_masker.py:403: UserWarning: Persisting input arguments took 4.46s to run.\n",
      "If this happens often in your code, it can cause performance problems \n",
      "(results will be correct in all cases). \n",
      "The reason for this is probably some large input arguments for a wrapped\n",
      " function (e.g. large strings).\n",
      "THIS IS A JOBLIB ISSUE. If you can, kindly provide the joblib's team with an\n",
      " example so that they can fix the problem.\n",
      "  signals, _ = self._cache(\n"
     ]
    },
    {
     "name": "stdout",
     "output_type": "stream",
     "text": [
      "----- sub-032473 -----\n"
     ]
    },
    {
     "name": "stderr",
     "output_type": "stream",
     "text": [
      "/Users/giovanni/opt/anaconda3/envs/biomkr_397/lib/python3.9/site-packages/nilearn/maskers/nifti_spheres_masker.py:403: UserWarning: Persisting input arguments took 4.48s to run.\n",
      "If this happens often in your code, it can cause performance problems \n",
      "(results will be correct in all cases). \n",
      "The reason for this is probably some large input arguments for a wrapped\n",
      " function (e.g. large strings).\n",
      "THIS IS A JOBLIB ISSUE. If you can, kindly provide the joblib's team with an\n",
      " example so that they can fix the problem.\n",
      "  signals, _ = self._cache(\n"
     ]
    },
    {
     "name": "stdout",
     "output_type": "stream",
     "text": [
      "----- sub-032406 -----\n"
     ]
    },
    {
     "name": "stderr",
     "output_type": "stream",
     "text": [
      "/Users/giovanni/opt/anaconda3/envs/biomkr_397/lib/python3.9/site-packages/nilearn/maskers/nifti_spheres_masker.py:403: UserWarning: Persisting input arguments took 4.46s to run.\n",
      "If this happens often in your code, it can cause performance problems \n",
      "(results will be correct in all cases). \n",
      "The reason for this is probably some large input arguments for a wrapped\n",
      " function (e.g. large strings).\n",
      "THIS IS A JOBLIB ISSUE. If you can, kindly provide the joblib's team with an\n",
      " example so that they can fix the problem.\n",
      "  signals, _ = self._cache(\n"
     ]
    },
    {
     "name": "stdout",
     "output_type": "stream",
     "text": [
      "----- sub-032358 -----\n"
     ]
    },
    {
     "name": "stderr",
     "output_type": "stream",
     "text": [
      "/Users/giovanni/opt/anaconda3/envs/biomkr_397/lib/python3.9/site-packages/nilearn/maskers/nifti_spheres_masker.py:403: UserWarning: Persisting input arguments took 4.45s to run.\n",
      "If this happens often in your code, it can cause performance problems \n",
      "(results will be correct in all cases). \n",
      "The reason for this is probably some large input arguments for a wrapped\n",
      " function (e.g. large strings).\n",
      "THIS IS A JOBLIB ISSUE. If you can, kindly provide the joblib's team with an\n",
      " example so that they can fix the problem.\n",
      "  signals, _ = self._cache(\n"
     ]
    },
    {
     "name": "stdout",
     "output_type": "stream",
     "text": [
      "----- sub-032502 -----\n"
     ]
    },
    {
     "name": "stderr",
     "output_type": "stream",
     "text": [
      "/Users/giovanni/opt/anaconda3/envs/biomkr_397/lib/python3.9/site-packages/nilearn/maskers/nifti_spheres_masker.py:403: UserWarning: Persisting input arguments took 4.45s to run.\n",
      "If this happens often in your code, it can cause performance problems \n",
      "(results will be correct in all cases). \n",
      "The reason for this is probably some large input arguments for a wrapped\n",
      " function (e.g. large strings).\n",
      "THIS IS A JOBLIB ISSUE. If you can, kindly provide the joblib's team with an\n",
      " example so that they can fix the problem.\n",
      "  signals, _ = self._cache(\n"
     ]
    },
    {
     "name": "stdout",
     "output_type": "stream",
     "text": [
      "----- sub-032499 -----\n"
     ]
    },
    {
     "name": "stderr",
     "output_type": "stream",
     "text": [
      "/Users/giovanni/opt/anaconda3/envs/biomkr_397/lib/python3.9/site-packages/nilearn/maskers/nifti_spheres_masker.py:403: UserWarning: Persisting input arguments took 4.45s to run.\n",
      "If this happens often in your code, it can cause performance problems \n",
      "(results will be correct in all cases). \n",
      "The reason for this is probably some large input arguments for a wrapped\n",
      " function (e.g. large strings).\n",
      "THIS IS A JOBLIB ISSUE. If you can, kindly provide the joblib's team with an\n",
      " example so that they can fix the problem.\n",
      "  signals, _ = self._cache(\n"
     ]
    },
    {
     "name": "stdout",
     "output_type": "stream",
     "text": [
      "----- sub-032455 -----\n"
     ]
    },
    {
     "name": "stderr",
     "output_type": "stream",
     "text": [
      "/Users/giovanni/opt/anaconda3/envs/biomkr_397/lib/python3.9/site-packages/nilearn/maskers/nifti_spheres_masker.py:403: UserWarning: Persisting input arguments took 4.46s to run.\n",
      "If this happens often in your code, it can cause performance problems \n",
      "(results will be correct in all cases). \n",
      "The reason for this is probably some large input arguments for a wrapped\n",
      " function (e.g. large strings).\n",
      "THIS IS A JOBLIB ISSUE. If you can, kindly provide the joblib's team with an\n",
      " example so that they can fix the problem.\n",
      "  signals, _ = self._cache(\n"
     ]
    },
    {
     "name": "stdout",
     "output_type": "stream",
     "text": [
      "----- sub-032524 -----\n"
     ]
    },
    {
     "name": "stderr",
     "output_type": "stream",
     "text": [
      "/Users/giovanni/opt/anaconda3/envs/biomkr_397/lib/python3.9/site-packages/nilearn/maskers/nifti_spheres_masker.py:403: UserWarning: Persisting input arguments took 4.45s to run.\n",
      "If this happens often in your code, it can cause performance problems \n",
      "(results will be correct in all cases). \n",
      "The reason for this is probably some large input arguments for a wrapped\n",
      " function (e.g. large strings).\n",
      "THIS IS A JOBLIB ISSUE. If you can, kindly provide the joblib's team with an\n",
      " example so that they can fix the problem.\n",
      "  signals, _ = self._cache(\n"
     ]
    },
    {
     "name": "stdout",
     "output_type": "stream",
     "text": [
      "----- sub-032420 -----\n"
     ]
    },
    {
     "name": "stderr",
     "output_type": "stream",
     "text": [
      "/Users/giovanni/opt/anaconda3/envs/biomkr_397/lib/python3.9/site-packages/nilearn/maskers/nifti_spheres_masker.py:403: UserWarning: Persisting input arguments took 4.50s to run.\n",
      "If this happens often in your code, it can cause performance problems \n",
      "(results will be correct in all cases). \n",
      "The reason for this is probably some large input arguments for a wrapped\n",
      " function (e.g. large strings).\n",
      "THIS IS A JOBLIB ISSUE. If you can, kindly provide the joblib's team with an\n",
      " example so that they can fix the problem.\n",
      "  signals, _ = self._cache(\n"
     ]
    },
    {
     "name": "stdout",
     "output_type": "stream",
     "text": [
      "----- sub-032486 -----\n"
     ]
    },
    {
     "name": "stderr",
     "output_type": "stream",
     "text": [
      "/Users/giovanni/opt/anaconda3/envs/biomkr_397/lib/python3.9/site-packages/nilearn/maskers/nifti_spheres_masker.py:403: UserWarning: Persisting input arguments took 4.43s to run.\n",
      "If this happens often in your code, it can cause performance problems \n",
      "(results will be correct in all cases). \n",
      "The reason for this is probably some large input arguments for a wrapped\n",
      " function (e.g. large strings).\n",
      "THIS IS A JOBLIB ISSUE. If you can, kindly provide the joblib's team with an\n",
      " example so that they can fix the problem.\n",
      "  signals, _ = self._cache(\n"
     ]
    },
    {
     "name": "stdout",
     "output_type": "stream",
     "text": [
      "----- sub-032361 -----\n"
     ]
    },
    {
     "name": "stderr",
     "output_type": "stream",
     "text": [
      "/Users/giovanni/opt/anaconda3/envs/biomkr_397/lib/python3.9/site-packages/nilearn/maskers/nifti_spheres_masker.py:403: UserWarning: Persisting input arguments took 4.46s to run.\n",
      "If this happens often in your code, it can cause performance problems \n",
      "(results will be correct in all cases). \n",
      "The reason for this is probably some large input arguments for a wrapped\n",
      " function (e.g. large strings).\n",
      "THIS IS A JOBLIB ISSUE. If you can, kindly provide the joblib's team with an\n",
      " example so that they can fix the problem.\n",
      "  signals, _ = self._cache(\n"
     ]
    },
    {
     "name": "stdout",
     "output_type": "stream",
     "text": [
      "----- sub-032504 -----\n"
     ]
    },
    {
     "name": "stderr",
     "output_type": "stream",
     "text": [
      "/Users/giovanni/opt/anaconda3/envs/biomkr_397/lib/python3.9/site-packages/nilearn/maskers/nifti_spheres_masker.py:403: UserWarning: Persisting input arguments took 4.46s to run.\n",
      "If this happens often in your code, it can cause performance problems \n",
      "(results will be correct in all cases). \n",
      "The reason for this is probably some large input arguments for a wrapped\n",
      " function (e.g. large strings).\n",
      "THIS IS A JOBLIB ISSUE. If you can, kindly provide the joblib's team with an\n",
      " example so that they can fix the problem.\n",
      "  signals, _ = self._cache(\n"
     ]
    },
    {
     "name": "stdout",
     "output_type": "stream",
     "text": [
      "----- sub-032400 -----\n"
     ]
    },
    {
     "name": "stderr",
     "output_type": "stream",
     "text": [
      "/Users/giovanni/opt/anaconda3/envs/biomkr_397/lib/python3.9/site-packages/nilearn/maskers/nifti_spheres_masker.py:403: UserWarning: Persisting input arguments took 4.50s to run.\n",
      "If this happens often in your code, it can cause performance problems \n",
      "(results will be correct in all cases). \n",
      "The reason for this is probably some large input arguments for a wrapped\n",
      " function (e.g. large strings).\n",
      "THIS IS A JOBLIB ISSUE. If you can, kindly provide the joblib's team with an\n",
      " example so that they can fix the problem.\n",
      "  signals, _ = self._cache(\n"
     ]
    },
    {
     "name": "stdout",
     "output_type": "stream",
     "text": [
      "----- sub-032522 -----\n"
     ]
    },
    {
     "name": "stderr",
     "output_type": "stream",
     "text": [
      "/Users/giovanni/opt/anaconda3/envs/biomkr_397/lib/python3.9/site-packages/nilearn/maskers/nifti_spheres_masker.py:403: UserWarning: Persisting input arguments took 4.49s to run.\n",
      "If this happens often in your code, it can cause performance problems \n",
      "(results will be correct in all cases). \n",
      "The reason for this is probably some large input arguments for a wrapped\n",
      " function (e.g. large strings).\n",
      "THIS IS A JOBLIB ISSUE. If you can, kindly provide the joblib's team with an\n",
      " example so that they can fix the problem.\n",
      "  signals, _ = self._cache(\n"
     ]
    },
    {
     "name": "stdout",
     "output_type": "stream",
     "text": [
      "----- sub-032453 -----\n"
     ]
    },
    {
     "name": "stderr",
     "output_type": "stream",
     "text": [
      "/Users/giovanni/opt/anaconda3/envs/biomkr_397/lib/python3.9/site-packages/nilearn/maskers/nifti_spheres_masker.py:403: UserWarning: Persisting input arguments took 4.42s to run.\n",
      "If this happens often in your code, it can cause performance problems \n",
      "(results will be correct in all cases). \n",
      "The reason for this is probably some large input arguments for a wrapped\n",
      " function (e.g. large strings).\n",
      "THIS IS A JOBLIB ISSUE. If you can, kindly provide the joblib's team with an\n",
      " example so that they can fix the problem.\n",
      "  signals, _ = self._cache(\n"
     ]
    },
    {
     "name": "stdout",
     "output_type": "stream",
     "text": [
      "----- sub-032480 -----\n"
     ]
    },
    {
     "name": "stderr",
     "output_type": "stream",
     "text": [
      "/Users/giovanni/opt/anaconda3/envs/biomkr_397/lib/python3.9/site-packages/nilearn/maskers/nifti_spheres_masker.py:403: UserWarning: Persisting input arguments took 4.45s to run.\n",
      "If this happens often in your code, it can cause performance problems \n",
      "(results will be correct in all cases). \n",
      "The reason for this is probably some large input arguments for a wrapped\n",
      " function (e.g. large strings).\n",
      "THIS IS A JOBLIB ISSUE. If you can, kindly provide the joblib's team with an\n",
      " example so that they can fix the problem.\n",
      "  signals, _ = self._cache(\n"
     ]
    },
    {
     "name": "stdout",
     "output_type": "stream",
     "text": [
      "----- sub-032334 -----\n"
     ]
    },
    {
     "name": "stderr",
     "output_type": "stream",
     "text": [
      "/Users/giovanni/opt/anaconda3/envs/biomkr_397/lib/python3.9/site-packages/nilearn/maskers/nifti_spheres_masker.py:403: UserWarning: Persisting input arguments took 4.46s to run.\n",
      "If this happens often in your code, it can cause performance problems \n",
      "(results will be correct in all cases). \n",
      "The reason for this is probably some large input arguments for a wrapped\n",
      " function (e.g. large strings).\n",
      "THIS IS A JOBLIB ISSUE. If you can, kindly provide the joblib's team with an\n",
      " example so that they can fix the problem.\n",
      "  signals, _ = self._cache(\n"
     ]
    },
    {
     "name": "stdout",
     "output_type": "stream",
     "text": [
      "----- sub-032366 -----\n"
     ]
    },
    {
     "name": "stderr",
     "output_type": "stream",
     "text": [
      "/Users/giovanni/opt/anaconda3/envs/biomkr_397/lib/python3.9/site-packages/nilearn/maskers/nifti_spheres_masker.py:403: UserWarning: Persisting input arguments took 4.50s to run.\n",
      "If this happens often in your code, it can cause performance problems \n",
      "(results will be correct in all cases). \n",
      "The reason for this is probably some large input arguments for a wrapped\n",
      " function (e.g. large strings).\n",
      "THIS IS A JOBLIB ISSUE. If you can, kindly provide the joblib's team with an\n",
      " example so that they can fix the problem.\n",
      "  signals, _ = self._cache(\n"
     ]
    },
    {
     "name": "stdout",
     "output_type": "stream",
     "text": [
      "----- sub-032505 -----\n"
     ]
    },
    {
     "name": "stderr",
     "output_type": "stream",
     "text": [
      "/Users/giovanni/opt/anaconda3/envs/biomkr_397/lib/python3.9/site-packages/nilearn/maskers/nifti_spheres_masker.py:403: UserWarning: Persisting input arguments took 4.50s to run.\n",
      "If this happens often in your code, it can cause performance problems \n",
      "(results will be correct in all cases). \n",
      "The reason for this is probably some large input arguments for a wrapped\n",
      " function (e.g. large strings).\n",
      "THIS IS A JOBLIB ISSUE. If you can, kindly provide the joblib's team with an\n",
      " example so that they can fix the problem.\n",
      "  signals, _ = self._cache(\n"
     ]
    },
    {
     "name": "stdout",
     "output_type": "stream",
     "text": [
      "----- sub-032393 -----\n"
     ]
    },
    {
     "name": "stderr",
     "output_type": "stream",
     "text": [
      "/Users/giovanni/opt/anaconda3/envs/biomkr_397/lib/python3.9/site-packages/nilearn/maskers/nifti_spheres_masker.py:403: UserWarning: Persisting input arguments took 4.47s to run.\n",
      "If this happens often in your code, it can cause performance problems \n",
      "(results will be correct in all cases). \n",
      "The reason for this is probably some large input arguments for a wrapped\n",
      " function (e.g. large strings).\n",
      "THIS IS A JOBLIB ISSUE. If you can, kindly provide the joblib's team with an\n",
      " example so that they can fix the problem.\n",
      "  signals, _ = self._cache(\n"
     ]
    },
    {
     "name": "stdout",
     "output_type": "stream",
     "text": [
      "----- sub-032474 -----\n"
     ]
    },
    {
     "name": "stderr",
     "output_type": "stream",
     "text": [
      "/Users/giovanni/opt/anaconda3/envs/biomkr_397/lib/python3.9/site-packages/nilearn/maskers/nifti_spheres_masker.py:403: UserWarning: Persisting input arguments took 4.48s to run.\n",
      "If this happens often in your code, it can cause performance problems \n",
      "(results will be correct in all cases). \n",
      "The reason for this is probably some large input arguments for a wrapped\n",
      " function (e.g. large strings).\n",
      "THIS IS A JOBLIB ISSUE. If you can, kindly provide the joblib's team with an\n",
      " example so that they can fix the problem.\n",
      "  signals, _ = self._cache(\n"
     ]
    },
    {
     "name": "stdout",
     "output_type": "stream",
     "text": [
      "----- sub-032523 -----\n"
     ]
    },
    {
     "name": "stderr",
     "output_type": "stream",
     "text": [
      "/Users/giovanni/opt/anaconda3/envs/biomkr_397/lib/python3.9/site-packages/nilearn/maskers/nifti_spheres_masker.py:403: UserWarning: Persisting input arguments took 4.47s to run.\n",
      "If this happens often in your code, it can cause performance problems \n",
      "(results will be correct in all cases). \n",
      "The reason for this is probably some large input arguments for a wrapped\n",
      " function (e.g. large strings).\n",
      "THIS IS A JOBLIB ISSUE. If you can, kindly provide the joblib's team with an\n",
      " example so that they can fix the problem.\n",
      "  signals, _ = self._cache(\n"
     ]
    },
    {
     "name": "stdout",
     "output_type": "stream",
     "text": [
      "----- sub-032370 -----\n"
     ]
    },
    {
     "name": "stderr",
     "output_type": "stream",
     "text": [
      "/Users/giovanni/opt/anaconda3/envs/biomkr_397/lib/python3.9/site-packages/nilearn/maskers/nifti_spheres_masker.py:403: UserWarning: Persisting input arguments took 4.47s to run.\n",
      "If this happens often in your code, it can cause performance problems \n",
      "(results will be correct in all cases). \n",
      "The reason for this is probably some large input arguments for a wrapped\n",
      " function (e.g. large strings).\n",
      "THIS IS A JOBLIB ISSUE. If you can, kindly provide the joblib's team with an\n",
      " example so that they can fix the problem.\n",
      "  signals, _ = self._cache(\n"
     ]
    },
    {
     "name": "stdout",
     "output_type": "stream",
     "text": [
      "----- sub-032497 -----\n"
     ]
    },
    {
     "name": "stderr",
     "output_type": "stream",
     "text": [
      "/Users/giovanni/opt/anaconda3/envs/biomkr_397/lib/python3.9/site-packages/nilearn/maskers/nifti_spheres_masker.py:403: UserWarning: Persisting input arguments took 4.43s to run.\n",
      "If this happens often in your code, it can cause performance problems \n",
      "(results will be correct in all cases). \n",
      "The reason for this is probably some large input arguments for a wrapped\n",
      " function (e.g. large strings).\n",
      "THIS IS A JOBLIB ISSUE. If you can, kindly provide the joblib's team with an\n",
      " example so that they can fix the problem.\n",
      "  signals, _ = self._cache(\n"
     ]
    },
    {
     "name": "stdout",
     "output_type": "stream",
     "text": [
      "----- sub-032408 -----\n"
     ]
    },
    {
     "name": "stderr",
     "output_type": "stream",
     "text": [
      "/Users/giovanni/opt/anaconda3/envs/biomkr_397/lib/python3.9/site-packages/nilearn/maskers/nifti_spheres_masker.py:403: UserWarning: Persisting input arguments took 4.48s to run.\n",
      "If this happens often in your code, it can cause performance problems \n",
      "(results will be correct in all cases). \n",
      "The reason for this is probably some large input arguments for a wrapped\n",
      " function (e.g. large strings).\n",
      "THIS IS A JOBLIB ISSUE. If you can, kindly provide the joblib's team with an\n",
      " example so that they can fix the problem.\n",
      "  signals, _ = self._cache(\n"
     ]
    },
    {
     "name": "stdout",
     "output_type": "stream",
     "text": [
      "----- sub-032356 -----\n"
     ]
    },
    {
     "name": "stderr",
     "output_type": "stream",
     "text": [
      "/Users/giovanni/opt/anaconda3/envs/biomkr_397/lib/python3.9/site-packages/nilearn/maskers/nifti_spheres_masker.py:403: UserWarning: Persisting input arguments took 4.48s to run.\n",
      "If this happens often in your code, it can cause performance problems \n",
      "(results will be correct in all cases). \n",
      "The reason for this is probably some large input arguments for a wrapped\n",
      " function (e.g. large strings).\n",
      "THIS IS A JOBLIB ISSUE. If you can, kindly provide the joblib's team with an\n",
      " example so that they can fix the problem.\n",
      "  signals, _ = self._cache(\n"
     ]
    },
    {
     "name": "stdout",
     "output_type": "stream",
     "text": [
      "----- sub-032349 -----\n"
     ]
    },
    {
     "name": "stderr",
     "output_type": "stream",
     "text": [
      "/Users/giovanni/opt/anaconda3/envs/biomkr_397/lib/python3.9/site-packages/nilearn/maskers/nifti_spheres_masker.py:403: UserWarning: Persisting input arguments took 4.46s to run.\n",
      "If this happens often in your code, it can cause performance problems \n",
      "(results will be correct in all cases). \n",
      "The reason for this is probably some large input arguments for a wrapped\n",
      " function (e.g. large strings).\n",
      "THIS IS A JOBLIB ISSUE. If you can, kindly provide the joblib's team with an\n",
      " example so that they can fix the problem.\n",
      "  signals, _ = self._cache(\n"
     ]
    },
    {
     "name": "stdout",
     "output_type": "stream",
     "text": [
      "----- sub-032417 -----\n"
     ]
    },
    {
     "name": "stderr",
     "output_type": "stream",
     "text": [
      "/Users/giovanni/opt/anaconda3/envs/biomkr_397/lib/python3.9/site-packages/nilearn/maskers/nifti_spheres_masker.py:403: UserWarning: Persisting input arguments took 4.45s to run.\n",
      "If this happens often in your code, it can cause performance problems \n",
      "(results will be correct in all cases). \n",
      "The reason for this is probably some large input arguments for a wrapped\n",
      " function (e.g. large strings).\n",
      "THIS IS A JOBLIB ISSUE. If you can, kindly provide the joblib's team with an\n",
      " example so that they can fix the problem.\n",
      "  signals, _ = self._cache(\n"
     ]
    },
    {
     "name": "stdout",
     "output_type": "stream",
     "text": [
      "----- sub-032385 -----\n"
     ]
    },
    {
     "name": "stderr",
     "output_type": "stream",
     "text": [
      "/Users/giovanni/opt/anaconda3/envs/biomkr_397/lib/python3.9/site-packages/nilearn/maskers/nifti_spheres_masker.py:403: UserWarning: Persisting input arguments took 4.49s to run.\n",
      "If this happens often in your code, it can cause performance problems \n",
      "(results will be correct in all cases). \n",
      "The reason for this is probably some large input arguments for a wrapped\n",
      " function (e.g. large strings).\n",
      "THIS IS A JOBLIB ISSUE. If you can, kindly provide the joblib's team with an\n",
      " example so that they can fix the problem.\n",
      "  signals, _ = self._cache(\n"
     ]
    },
    {
     "name": "stdout",
     "output_type": "stream",
     "text": [
      "----- sub-032348 -----\n"
     ]
    },
    {
     "name": "stderr",
     "output_type": "stream",
     "text": [
      "/Users/giovanni/opt/anaconda3/envs/biomkr_397/lib/python3.9/site-packages/nilearn/maskers/nifti_spheres_masker.py:403: UserWarning: Persisting input arguments took 4.46s to run.\n",
      "If this happens often in your code, it can cause performance problems \n",
      "(results will be correct in all cases). \n",
      "The reason for this is probably some large input arguments for a wrapped\n",
      " function (e.g. large strings).\n",
      "THIS IS A JOBLIB ISSUE. If you can, kindly provide the joblib's team with an\n",
      " example so that they can fix the problem.\n",
      "  signals, _ = self._cache(\n"
     ]
    },
    {
     "name": "stdout",
     "output_type": "stream",
     "text": [
      "----- sub-032416 -----\n"
     ]
    },
    {
     "name": "stderr",
     "output_type": "stream",
     "text": [
      "/Users/giovanni/opt/anaconda3/envs/biomkr_397/lib/python3.9/site-packages/nilearn/maskers/nifti_spheres_masker.py:403: UserWarning: Persisting input arguments took 4.52s to run.\n",
      "If this happens often in your code, it can cause performance problems \n",
      "(results will be correct in all cases). \n",
      "The reason for this is probably some large input arguments for a wrapped\n",
      " function (e.g. large strings).\n",
      "THIS IS A JOBLIB ISSUE. If you can, kindly provide the joblib's team with an\n",
      " example so that they can fix the problem.\n",
      "  signals, _ = self._cache(\n"
     ]
    },
    {
     "name": "stdout",
     "output_type": "stream",
     "text": [
      "----- sub-032489 -----\n"
     ]
    },
    {
     "name": "stderr",
     "output_type": "stream",
     "text": [
      "/Users/giovanni/opt/anaconda3/envs/biomkr_397/lib/python3.9/site-packages/nilearn/maskers/nifti_spheres_masker.py:403: UserWarning: Persisting input arguments took 4.48s to run.\n",
      "If this happens often in your code, it can cause performance problems \n",
      "(results will be correct in all cases). \n",
      "The reason for this is probably some large input arguments for a wrapped\n",
      " function (e.g. large strings).\n",
      "THIS IS A JOBLIB ISSUE. If you can, kindly provide the joblib's team with an\n",
      " example so that they can fix the problem.\n",
      "  signals, _ = self._cache(\n"
     ]
    },
    {
     "name": "stdout",
     "output_type": "stream",
     "text": [
      "----- sub-032371 -----\n"
     ]
    },
    {
     "name": "stderr",
     "output_type": "stream",
     "text": [
      "/Users/giovanni/opt/anaconda3/envs/biomkr_397/lib/python3.9/site-packages/nilearn/maskers/nifti_spheres_masker.py:403: UserWarning: Persisting input arguments took 4.47s to run.\n",
      "If this happens often in your code, it can cause performance problems \n",
      "(results will be correct in all cases). \n",
      "The reason for this is probably some large input arguments for a wrapped\n",
      " function (e.g. large strings).\n",
      "THIS IS A JOBLIB ISSUE. If you can, kindly provide the joblib's team with an\n",
      " example so that they can fix the problem.\n",
      "  signals, _ = self._cache(\n"
     ]
    },
    {
     "name": "stdout",
     "output_type": "stream",
     "text": [
      "----- sub-032496 -----\n"
     ]
    },
    {
     "name": "stderr",
     "output_type": "stream",
     "text": [
      "/Users/giovanni/opt/anaconda3/envs/biomkr_397/lib/python3.9/site-packages/nilearn/maskers/nifti_spheres_masker.py:403: UserWarning: Persisting input arguments took 4.45s to run.\n",
      "If this happens often in your code, it can cause performance problems \n",
      "(results will be correct in all cases). \n",
      "The reason for this is probably some large input arguments for a wrapped\n",
      " function (e.g. large strings).\n",
      "THIS IS A JOBLIB ISSUE. If you can, kindly provide the joblib's team with an\n",
      " example so that they can fix the problem.\n",
      "  signals, _ = self._cache(\n"
     ]
    },
    {
     "name": "stdout",
     "output_type": "stream",
     "text": [
      "----- sub-032304 -----\n"
     ]
    },
    {
     "name": "stderr",
     "output_type": "stream",
     "text": [
      "/Users/giovanni/opt/anaconda3/envs/biomkr_397/lib/python3.9/site-packages/nilearn/maskers/nifti_spheres_masker.py:403: UserWarning: Persisting input arguments took 4.45s to run.\n",
      "If this happens often in your code, it can cause performance problems \n",
      "(results will be correct in all cases). \n",
      "The reason for this is probably some large input arguments for a wrapped\n",
      " function (e.g. large strings).\n",
      "THIS IS A JOBLIB ISSUE. If you can, kindly provide the joblib's team with an\n",
      " example so that they can fix the problem.\n",
      "  signals, _ = self._cache(\n"
     ]
    },
    {
     "name": "stdout",
     "output_type": "stream",
     "text": [
      "----- sub-032409 -----\n"
     ]
    },
    {
     "name": "stderr",
     "output_type": "stream",
     "text": [
      "/Users/giovanni/opt/anaconda3/envs/biomkr_397/lib/python3.9/site-packages/nilearn/maskers/nifti_spheres_masker.py:403: UserWarning: Persisting input arguments took 4.48s to run.\n",
      "If this happens often in your code, it can cause performance problems \n",
      "(results will be correct in all cases). \n",
      "The reason for this is probably some large input arguments for a wrapped\n",
      " function (e.g. large strings).\n",
      "THIS IS A JOBLIB ISSUE. If you can, kindly provide the joblib's team with an\n",
      " example so that they can fix the problem.\n",
      "  signals, _ = self._cache(\n"
     ]
    },
    {
     "name": "stdout",
     "output_type": "stream",
     "text": [
      "----- sub-032465 -----\n"
     ]
    },
    {
     "name": "stderr",
     "output_type": "stream",
     "text": [
      "/Users/giovanni/opt/anaconda3/envs/biomkr_397/lib/python3.9/site-packages/nilearn/maskers/nifti_spheres_masker.py:403: UserWarning: Persisting input arguments took 4.48s to run.\n",
      "If this happens often in your code, it can cause performance problems \n",
      "(results will be correct in all cases). \n",
      "The reason for this is probably some large input arguments for a wrapped\n",
      " function (e.g. large strings).\n",
      "THIS IS A JOBLIB ISSUE. If you can, kindly provide the joblib's team with an\n",
      " example so that they can fix the problem.\n",
      "  signals, _ = self._cache(\n"
     ]
    },
    {
     "name": "stdout",
     "output_type": "stream",
     "text": [
      "----- sub-032410 -----\n"
     ]
    },
    {
     "name": "stderr",
     "output_type": "stream",
     "text": [
      "/Users/giovanni/opt/anaconda3/envs/biomkr_397/lib/python3.9/site-packages/nilearn/maskers/nifti_spheres_masker.py:403: UserWarning: Persisting input arguments took 4.47s to run.\n",
      "If this happens often in your code, it can cause performance problems \n",
      "(results will be correct in all cases). \n",
      "The reason for this is probably some large input arguments for a wrapped\n",
      " function (e.g. large strings).\n",
      "THIS IS A JOBLIB ISSUE. If you can, kindly provide the joblib's team with an\n",
      " example so that they can fix the problem.\n",
      "  signals, _ = self._cache(\n"
     ]
    },
    {
     "name": "stdout",
     "output_type": "stream",
     "text": [
      "----- sub-032368 -----\n"
     ]
    },
    {
     "name": "stderr",
     "output_type": "stream",
     "text": [
      "/Users/giovanni/opt/anaconda3/envs/biomkr_397/lib/python3.9/site-packages/nilearn/maskers/nifti_spheres_masker.py:403: UserWarning: Persisting input arguments took 4.49s to run.\n",
      "If this happens often in your code, it can cause performance problems \n",
      "(results will be correct in all cases). \n",
      "The reason for this is probably some large input arguments for a wrapped\n",
      " function (e.g. large strings).\n",
      "THIS IS A JOBLIB ISSUE. If you can, kindly provide the joblib's team with an\n",
      " example so that they can fix the problem.\n",
      "  signals, _ = self._cache(\n"
     ]
    },
    {
     "name": "stdout",
     "output_type": "stream",
     "text": [
      "----- sub-032436 -----\n"
     ]
    },
    {
     "name": "stderr",
     "output_type": "stream",
     "text": [
      "/Users/giovanni/opt/anaconda3/envs/biomkr_397/lib/python3.9/site-packages/nilearn/maskers/nifti_spheres_masker.py:403: UserWarning: Persisting input arguments took 4.54s to run.\n",
      "If this happens often in your code, it can cause performance problems \n",
      "(results will be correct in all cases). \n",
      "The reason for this is probably some large input arguments for a wrapped\n",
      " function (e.g. large strings).\n",
      "THIS IS A JOBLIB ISSUE. If you can, kindly provide the joblib's team with an\n",
      " example so that they can fix the problem.\n",
      "  signals, _ = self._cache(\n"
     ]
    },
    {
     "name": "stdout",
     "output_type": "stream",
     "text": [
      "----- sub-032377 -----\n"
     ]
    },
    {
     "name": "stderr",
     "output_type": "stream",
     "text": [
      "/Users/giovanni/opt/anaconda3/envs/biomkr_397/lib/python3.9/site-packages/nilearn/maskers/nifti_spheres_masker.py:403: UserWarning: Persisting input arguments took 4.47s to run.\n",
      "If this happens often in your code, it can cause performance problems \n",
      "(results will be correct in all cases). \n",
      "The reason for this is probably some large input arguments for a wrapped\n",
      " function (e.g. large strings).\n",
      "THIS IS A JOBLIB ISSUE. If you can, kindly provide the joblib's team with an\n",
      " example so that they can fix the problem.\n",
      "  signals, _ = self._cache(\n"
     ]
    },
    {
     "name": "stdout",
     "output_type": "stream",
     "text": [
      "----- sub-032369 -----\n"
     ]
    },
    {
     "name": "stderr",
     "output_type": "stream",
     "text": [
      "/Users/giovanni/opt/anaconda3/envs/biomkr_397/lib/python3.9/site-packages/nilearn/maskers/nifti_spheres_masker.py:403: UserWarning: Persisting input arguments took 4.63s to run.\n",
      "If this happens often in your code, it can cause performance problems \n",
      "(results will be correct in all cases). \n",
      "The reason for this is probably some large input arguments for a wrapped\n",
      " function (e.g. large strings).\n",
      "THIS IS A JOBLIB ISSUE. If you can, kindly provide the joblib's team with an\n",
      " example so that they can fix the problem.\n",
      "  signals, _ = self._cache(\n"
     ]
    },
    {
     "name": "stdout",
     "output_type": "stream",
     "text": [
      "----- sub-032437 -----\n"
     ]
    },
    {
     "name": "stderr",
     "output_type": "stream",
     "text": [
      "/Users/giovanni/opt/anaconda3/envs/biomkr_397/lib/python3.9/site-packages/nilearn/maskers/nifti_spheres_masker.py:403: UserWarning: Persisting input arguments took 4.55s to run.\n",
      "If this happens often in your code, it can cause performance problems \n",
      "(results will be correct in all cases). \n",
      "The reason for this is probably some large input arguments for a wrapped\n",
      " function (e.g. large strings).\n",
      "THIS IS A JOBLIB ISSUE. If you can, kindly provide the joblib's team with an\n",
      " example so that they can fix the problem.\n",
      "  signals, _ = self._cache(\n"
     ]
    }
   ],
   "source": [
    "fmri_path = '/Users/giovanni/Documents/Datasets/LEMON/neuro/MNI2mm/'\n",
    "conf_path = '/Users/giovanni/Documents/Datasets/LEMON/neuro/confounds/'\n",
    "\n",
    "masker, labels = get_network_masker(dmn_coords)\n",
    "net_name = 'DMN'\n",
    "\n",
    "corr_mat_s = []\n",
    "parc_mat_s = []\n",
    "ampli_s = []\n",
    "\n",
    "\n",
    "for i, r in cls_df.iterrows():\n",
    "\n",
    "    s = r['sbj_id']\n",
    "\n",
    "    print('----- {0} -----'.format(s))\n",
    "\n",
    "    sbj_frmi_path = fmri_path+'{0}_ses-01_task-rest_acq-AP_run-01_MNI2mm.nii'.format(s)\n",
    "    sbj_conf_path = conf_path+'{0}_ses-01_task-rest_acq-AP_run-01_confounds.txt'.format(s)\n",
    "    func_img = image.load_img(sbj_frmi_path)\n",
    "    conf = np.loadtxt(sbj_conf_path)\n",
    "\n",
    "    time_series = masker.fit_transform(func_img, confounds=conf)\n",
    "    corr_mat = extract_functional_conn(time_series)\n",
    "    parc_mat = extract_functional_conn(time_series, conn_type='partial correlation')\n",
    "    ampli = np.abs(hilbert(time_series)).mean(0)\n",
    "\n",
    "    corr_mat_s.append(corr_mat)\n",
    "    parc_mat_s.append(parc_mat)\n",
    "    ampli_s.append(ampli)\n",
    "\n"
   ]
  },
  {
   "cell_type": "code",
   "execution_count": 22,
   "metadata": {},
   "outputs": [],
   "source": [
    "cls_df['part_corr'] = parc_mat_s\n",
    "cls_df['corr'] = corr_mat_s\n",
    "cls_df['ampl'] = ampli_s\n",
    "\n"
   ]
  },
  {
   "cell_type": "code",
   "execution_count": 23,
   "metadata": {},
   "outputs": [
    {
     "data": {
      "text/html": [
       "<div>\n",
       "<style scoped>\n",
       "    .dataframe tbody tr th:only-of-type {\n",
       "        vertical-align: middle;\n",
       "    }\n",
       "\n",
       "    .dataframe tbody tr th {\n",
       "        vertical-align: top;\n",
       "    }\n",
       "\n",
       "    .dataframe thead th {\n",
       "        text-align: right;\n",
       "    }\n",
       "</style>\n",
       "<table border=\"1\" class=\"dataframe\">\n",
       "  <thead>\n",
       "    <tr style=\"text-align: right;\">\n",
       "      <th></th>\n",
       "      <th>sbj_id</th>\n",
       "      <th>cluster_lbl</th>\n",
       "      <th>part_corr</th>\n",
       "      <th>corr</th>\n",
       "      <th>ampl</th>\n",
       "    </tr>\n",
       "  </thead>\n",
       "  <tbody>\n",
       "    <tr>\n",
       "      <th>0</th>\n",
       "      <td>sub-032485</td>\n",
       "      <td>1</td>\n",
       "      <td>[[1.0, 0.47057948, 0.08019982, 0.044316668], [...</td>\n",
       "      <td>[[1.0, 0.69208264, 0.4316092, 0.5169968], [0.6...</td>\n",
       "      <td>[0.11482386431575968, 0.12243180723003143, 0.0...</td>\n",
       "    </tr>\n",
       "    <tr>\n",
       "      <th>1</th>\n",
       "      <td>sub-032449</td>\n",
       "      <td>3</td>\n",
       "      <td>[[1.0, -0.13383724, 0.45024994, 0.4549708], [-...</td>\n",
       "      <td>[[1.0, 0.39197198, 0.63435864, 0.640674], [0.3...</td>\n",
       "      <td>[0.14726081954940717, 0.12237176805915305, 0.1...</td>\n",
       "    </tr>\n",
       "    <tr>\n",
       "      <th>2</th>\n",
       "      <td>sub-032362</td>\n",
       "      <td>3</td>\n",
       "      <td>[[1.0, 0.12636392, 0.3842679, 0.5277337], [0.1...</td>\n",
       "      <td>[[1.0, 0.59138733, 0.6574759, 0.7350592], [0.5...</td>\n",
       "      <td>[0.14095103591216482, 0.10759220764574298, 0.0...</td>\n",
       "    </tr>\n",
       "    <tr>\n",
       "      <th>3</th>\n",
       "      <td>sub-032344</td>\n",
       "      <td>0</td>\n",
       "      <td>[[1.0, 0.35020238, 0.31098846, 0.68260294], [0...</td>\n",
       "      <td>[[1.0, 0.7579562, 0.53931874, 0.81092906], [0....</td>\n",
       "      <td>[0.18640556667316138, 0.15235891839717688, 0.1...</td>\n",
       "    </tr>\n",
       "    <tr>\n",
       "      <th>4</th>\n",
       "      <td>sub-032470</td>\n",
       "      <td>3</td>\n",
       "      <td>[[1.0, 0.10758097, 0.17535782, 0.40306318], [0...</td>\n",
       "      <td>[[1.0, 0.44160825, 0.43857968, 0.5493147], [0....</td>\n",
       "      <td>[0.13410472692163897, 0.13241527134612002, 0.1...</td>\n",
       "    </tr>\n",
       "    <tr>\n",
       "      <th>...</th>\n",
       "      <td>...</td>\n",
       "      <td>...</td>\n",
       "      <td>...</td>\n",
       "      <td>...</td>\n",
       "      <td>...</td>\n",
       "    </tr>\n",
       "    <tr>\n",
       "      <th>101</th>\n",
       "      <td>sub-032368</td>\n",
       "      <td>2</td>\n",
       "      <td>[[1.0, 0.21184653, 0.5323094, 0.340996], [0.21...</td>\n",
       "      <td>[[1.0, 0.6273207, 0.8120026, 0.72113216], [0.6...</td>\n",
       "      <td>[0.16775297484512655, 0.11313357873591537, 0.1...</td>\n",
       "    </tr>\n",
       "    <tr>\n",
       "      <th>102</th>\n",
       "      <td>sub-032436</td>\n",
       "      <td>3</td>\n",
       "      <td>[[1.0, 0.12186336, 0.47211283, 0.6260845], [0....</td>\n",
       "      <td>[[1.0, 0.6912338, 0.73359525, 0.7256527], [0.6...</td>\n",
       "      <td>[0.14674015675402252, 0.11579999623401555, 0.1...</td>\n",
       "    </tr>\n",
       "    <tr>\n",
       "      <th>103</th>\n",
       "      <td>sub-032377</td>\n",
       "      <td>1</td>\n",
       "      <td>[[1.0, 0.20652075, 0.33064252, 0.61666656], [0...</td>\n",
       "      <td>[[1.0, 0.77201337, 0.6013587, 0.8419401], [0.7...</td>\n",
       "      <td>[0.16309187134157804, 0.16392828701430556, 0.0...</td>\n",
       "    </tr>\n",
       "    <tr>\n",
       "      <th>104</th>\n",
       "      <td>sub-032369</td>\n",
       "      <td>1</td>\n",
       "      <td>[[1.0, 0.17092744, 0.18861319, 0.56269413], [0...</td>\n",
       "      <td>[[1.0, 0.6839887, 0.41007724, 0.72111815], [0....</td>\n",
       "      <td>[0.1631365749365357, 0.14600773723695673, 0.13...</td>\n",
       "    </tr>\n",
       "    <tr>\n",
       "      <th>105</th>\n",
       "      <td>sub-032437</td>\n",
       "      <td>3</td>\n",
       "      <td>[[1.0, -0.24528113, 0.6796194, 0.50871986], [-...</td>\n",
       "      <td>[[1.0, 0.44470245, 0.6927146, 0.5511505], [0.4...</td>\n",
       "      <td>[0.1556049654168334, 0.13087099489974519, 0.12...</td>\n",
       "    </tr>\n",
       "  </tbody>\n",
       "</table>\n",
       "<p>106 rows × 5 columns</p>\n",
       "</div>"
      ],
      "text/plain": [
       "         sbj_id  cluster_lbl  \\\n",
       "0    sub-032485            1   \n",
       "1    sub-032449            3   \n",
       "2    sub-032362            3   \n",
       "3    sub-032344            0   \n",
       "4    sub-032470            3   \n",
       "..          ...          ...   \n",
       "101  sub-032368            2   \n",
       "102  sub-032436            3   \n",
       "103  sub-032377            1   \n",
       "104  sub-032369            1   \n",
       "105  sub-032437            3   \n",
       "\n",
       "                                             part_corr  \\\n",
       "0    [[1.0, 0.47057948, 0.08019982, 0.044316668], [...   \n",
       "1    [[1.0, -0.13383724, 0.45024994, 0.4549708], [-...   \n",
       "2    [[1.0, 0.12636392, 0.3842679, 0.5277337], [0.1...   \n",
       "3    [[1.0, 0.35020238, 0.31098846, 0.68260294], [0...   \n",
       "4    [[1.0, 0.10758097, 0.17535782, 0.40306318], [0...   \n",
       "..                                                 ...   \n",
       "101  [[1.0, 0.21184653, 0.5323094, 0.340996], [0.21...   \n",
       "102  [[1.0, 0.12186336, 0.47211283, 0.6260845], [0....   \n",
       "103  [[1.0, 0.20652075, 0.33064252, 0.61666656], [0...   \n",
       "104  [[1.0, 0.17092744, 0.18861319, 0.56269413], [0...   \n",
       "105  [[1.0, -0.24528113, 0.6796194, 0.50871986], [-...   \n",
       "\n",
       "                                                  corr  \\\n",
       "0    [[1.0, 0.69208264, 0.4316092, 0.5169968], [0.6...   \n",
       "1    [[1.0, 0.39197198, 0.63435864, 0.640674], [0.3...   \n",
       "2    [[1.0, 0.59138733, 0.6574759, 0.7350592], [0.5...   \n",
       "3    [[1.0, 0.7579562, 0.53931874, 0.81092906], [0....   \n",
       "4    [[1.0, 0.44160825, 0.43857968, 0.5493147], [0....   \n",
       "..                                                 ...   \n",
       "101  [[1.0, 0.6273207, 0.8120026, 0.72113216], [0.6...   \n",
       "102  [[1.0, 0.6912338, 0.73359525, 0.7256527], [0.6...   \n",
       "103  [[1.0, 0.77201337, 0.6013587, 0.8419401], [0.7...   \n",
       "104  [[1.0, 0.6839887, 0.41007724, 0.72111815], [0....   \n",
       "105  [[1.0, 0.44470245, 0.6927146, 0.5511505], [0.4...   \n",
       "\n",
       "                                                  ampl  \n",
       "0    [0.11482386431575968, 0.12243180723003143, 0.0...  \n",
       "1    [0.14726081954940717, 0.12237176805915305, 0.1...  \n",
       "2    [0.14095103591216482, 0.10759220764574298, 0.0...  \n",
       "3    [0.18640556667316138, 0.15235891839717688, 0.1...  \n",
       "4    [0.13410472692163897, 0.13241527134612002, 0.1...  \n",
       "..                                                 ...  \n",
       "101  [0.16775297484512655, 0.11313357873591537, 0.1...  \n",
       "102  [0.14674015675402252, 0.11579999623401555, 0.1...  \n",
       "103  [0.16309187134157804, 0.16392828701430556, 0.0...  \n",
       "104  [0.1631365749365357, 0.14600773723695673, 0.13...  \n",
       "105  [0.1556049654168334, 0.13087099489974519, 0.12...  \n",
       "\n",
       "[106 rows x 5 columns]"
      ]
     },
     "execution_count": 23,
     "metadata": {},
     "output_type": "execute_result"
    }
   ],
   "source": [
    "cls_df"
   ]
  },
  {
   "cell_type": "code",
   "execution_count": 24,
   "metadata": {},
   "outputs": [],
   "source": [
    "processed_data_path = '/Users/giovanni/Documents/Datasets/LEMON/processed/'\n",
    "cls_df.to_json(processed_data_path+'LEMON_subject_clusters_brain_act.json')"
   ]
  },
  {
   "cell_type": "code",
   "execution_count": 40,
   "metadata": {},
   "outputs": [],
   "source": [
    "from nilearn import plotting"
   ]
  },
  {
   "cell_type": "code",
   "execution_count": 120,
   "metadata": {},
   "outputs": [
    {
     "data": {
      "image/png": "[encoded data removed]",
      "text/plain": [
       "<Figure size 158.4x165.6 with 2 Axes>"
      ]
     },
     "metadata": {},
     "output_type": "display_data"
    },
    {
     "data": {
      "image/png": "[encoded data removed]",
      "text/plain": [
       "<Figure size 158.4x165.6 with 2 Axes>"
      ]
     },
     "metadata": {},
     "output_type": "display_data"
    },
    {
     "data": {
      "image/png": "[encoded data removed]",
      "text/plain": [
       "<Figure size 158.4x165.6 with 2 Axes>"
      ]
     },
     "metadata": {},
     "output_type": "display_data"
    },
    {
     "data": {
      "image/png": "[encoded data removed]",
      "text/plain": [
       "<Figure size 158.4x165.6 with 2 Axes>"
      ]
     },
     "metadata": {},
     "output_type": "display_data"
    },
    {
     "data": {
      "image/png": "[encoded data removed]",
      "text/plain": [
       "<Figure size 158.4x165.6 with 2 Axes>"
      ]
     },
     "metadata": {},
     "output_type": "display_data"
    }
   ],
   "source": [
    "cls_n = 1\n",
    "\n",
    "for cls_n in range(5):\n",
    "    cls_mask = cls_df['cluster_lbl'] == cls_n\n",
    "    ccc = 1 + np.nan_to_num(zscore(np.array([ c for c in cls_df['corr'].values]),0))[cls_mask, :, :].mean(0)\n",
    "    aaa = 1 + zscore(np.vstack(cls_df['ampl'].values), 0)[cls_mask, :].mean(0)\n",
    "\n",
    "\n",
    "    plotting.plot_connectome((1 + ccc) **4, list(dmn_coords.values()),\n",
    "                            node_size = ((1+aaa) ** 2)*50,\n",
    "                            display_mode = 'z', node_color='c', edge_cmap='Greens')\n",
    "    \n",
    "    plt.show()"
   ]
  },
  {
   "cell_type": "code",
   "execution_count": 129,
   "metadata": {},
   "outputs": [],
   "source": [
    "cls_df = cls_df.merge(scale_df, on='sbj_id', how='left')\n"
   ]
  },
  {
   "cell_type": "code",
   "execution_count": null,
   "metadata": {},
   "outputs": [],
   "source": [
    "cls_mask"
   ]
  },
  {
   "cell_type": "code",
   "execution_count": 151,
   "metadata": {},
   "outputs": [],
   "source": [
    "\n",
    "cls_df['STAI_Trait_Anxiety_zscored'] = zscore(cls_df['STAI_Trait_Anxiety'])\n",
    "stai_cls = [cls_df[cls_df['cluster_lbl'] == cls_n]['STAI_Trait_Anxiety_zscored'].values for cls_n in range(5)]"
   ]
  },
  {
   "cell_type": "code",
   "execution_count": 152,
   "metadata": {},
   "outputs": [],
   "source": [
    "cls_df['PSQ_OverallScore_zscored'] = zscore(cls_df['PSQ_OverallScore'])\n",
    "psq_cls = [cls_df[cls_df['cluster_lbl'] == cls_n]['PSQ_OverallScore_zscored'].values for cls_n in range(5)]"
   ]
  },
  {
   "cell_type": "code",
   "execution_count": 188,
   "metadata": {},
   "outputs": [
    {
     "data": {
      "image/png": "[encoded data removed]",
      "text/plain": [
       "<Figure size 1080x360 with 1 Axes>"
      ]
     },
     "metadata": {
      "needs_background": "light"
     },
     "output_type": "display_data"
    }
   ],
   "source": [
    "\n",
    "\n",
    "ticks = ['Cls 1', 'Cls 2', 'Cls 3', 'Cls 4', 'Cls 5']\n",
    "\n",
    "def set_box_color(bp, color):\n",
    "    plt.setp(bp['boxes'], color=color)\n",
    "    plt.setp(bp['whiskers'], color=color)\n",
    "    plt.setp(bp['caps'], color=color)\n",
    "    plt.setp(bp['medians'], color=color)\n",
    "\n",
    "plt.figure(figsize=(15,5))\n",
    "\n",
    "plt.axhline(0, ls='--', c='grey', alpha = .5)\n",
    "\n",
    "bpl = plt.boxplot(stai_cls, positions=np.array(range(len(stai_cls)))*2.0-0.2, sym='', widths=0.25, boxprops= dict(linewidth=3.0))\n",
    "bpr = plt.boxplot(psq_cls, positions=np.array(range(len(psq_cls)))*2.0+0.2, sym='', widths=0.25, boxprops= dict(linewidth=3.0))\n",
    "set_box_color(bpl, 'c') # colors are from http://colorbrewer2.org/\n",
    "set_box_color(bpr, 'g')\n",
    "\n",
    "# draw temporary red and blue lines and use them to create a legend\n",
    "plt.plot([], c='c', label='STAI')\n",
    "plt.plot([], c='g', label='PSQ')\n",
    "plt.legend(fontsize=12, frameon=False)\n",
    "\n",
    "plt.xticks(range(0, len(ticks) * 2, 2), ticks, fontsize=15)\n",
    "plt.xlim(-2, len(ticks)*2)\n",
    "plt.ylim(-3, 3)\n",
    "\n",
    "\n",
    "plt.ylabel('Questionnaire score (zscore)', fontsize=15)\n",
    "plt.gca().spines['right'].set_visible(False)\n",
    "plt.gca().spines['top'].set_visible(False)\n"
   ]
  },
  {
   "cell_type": "code",
   "execution_count": null,
   "metadata": {},
   "outputs": [],
   "source": []
  },
  {
   "cell_type": "code",
   "execution_count": null,
   "metadata": {},
   "outputs": [],
   "source": []
  }
 ],
 "metadata": {
  "interpreter": {
   "hash": "07b5df39407adffaec2de2c84e045aa1a21d1b33b060de895d69ac77d0788dba"
  },
  "kernelspec": {
   "display_name": "Python 3.9.7 ('biomkr_397')",
   "language": "python",
   "name": "python3"
  },
  "language_info": {
   "codemirror_mode": {
    "name": "ipython",
    "version": 3
   },
   "file_extension": ".py",
   "mimetype": "text/x-python",
   "name": "python",
   "nbconvert_exporter": "python",
   "pygments_lexer": "ipython3",
   "version": "3.9.7"
  },
  "orig_nbformat": 4
 },
 "nbformat": 4,
 "nbformat_minor": 2
}
